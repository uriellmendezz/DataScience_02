{
 "cells": [
  {
   "attachments": {},
   "cell_type": "markdown",
   "metadata": {},
   "source": [
    "# Homework Clase 4 - Módulo 2"
   ]
  },
  {
   "attachments": {},
   "cell_type": "markdown",
   "metadata": {},
   "source": [
    "1. Considera el experimento que consiste en un empleado que arma un producto.\n",
    "  - a. Defina la variable aleatoria que represente el tiempo en minutos requerido para armar el producto.<br>\n",
    "  "
   ]
  },
  {
   "attachments": {},
   "cell_type": "markdown",
   "metadata": {},
   "source": [
    "X = Segundos requeridos para armar un producto (Dimension Tiempo)"
   ]
  },
  {
   "attachments": {},
   "cell_type": "markdown",
   "metadata": {},
   "source": [
    "- b. ¿Qué valores toma la variable aleatoria?<br>"
   ]
  },
  {
   "attachments": {},
   "cell_type": "markdown",
   "metadata": {},
   "source": [
    "La variable aleatoria \"X\" toma como valores numeros mayores a cero ya que expresa a dimanesion tiempo"
   ]
  },
  {
   "attachments": {},
   "cell_type": "markdown",
   "metadata": {},
   "source": [
    "- c. ¿Es una variable aleatoria discreta o continua?<br>"
   ]
  },
  {
   "attachments": {},
   "cell_type": "markdown",
   "metadata": {},
   "source": [
    "Es una variable *continua* ya que puede tomar valores dentro de un rango continuo de numeros"
   ]
  },
  {
   "attachments": {},
   "cell_type": "markdown",
   "metadata": {},
   "source": [
    "---"
   ]
  },
  {
   "attachments": {},
   "cell_type": "markdown",
   "metadata": {},
   "source": [
    "2. Considera el experimento que consiste en lanzar una moneda dos veces.\n",
    "  - a. Enumere los resultados experimentales."
   ]
  },
  {
   "attachments": {},
   "cell_type": "markdown",
   "metadata": {},
   "source": [
    "Head = H<br>\n",
    "Tail = T<br>\n",
    "Posibles resultados = [\"H\",\"T\"] (2)<br>\n",
    "2 (posibles resultados para cada evento) ** n (repeticiones) = 2 ** 2 = 4 <br>\n",
    "Espacio muestral = {[H,H],[H,T],[T,T],[T,H]} (4)"
   ]
  },
  {
   "attachments": {},
   "cell_type": "markdown",
   "metadata": {},
   "source": [
    "- b. Defina una variable aleatoria que represente el número de caras en los dos lanzamientos."
   ]
  },
  {
   "attachments": {},
   "cell_type": "markdown",
   "metadata": {},
   "source": [
    "X = Cantidad de *Heads* en los dos lanzamientos"
   ]
  },
  {
   "attachments": {},
   "cell_type": "markdown",
   "metadata": {},
   "source": [
    "- c. Dé el valor que la variable aleatoria tomará en cada uno de los resultados experimentales."
   ]
  },
  {
   "attachments": {},
   "cell_type": "markdown",
   "metadata": {},
   "source": [
    "1. [H,H] ---> X = 2<br><br>\n",
    "2. [H,T] ---> X = 1<br><br>\n",
    "3. [T,T] ---> X = 0<br><br>\n",
    "4. [T,H] ---> X = 1<br><br>"
   ]
  },
  {
   "attachments": {},
   "cell_type": "markdown",
   "metadata": {},
   "source": [
    "- d. ¿Es una variable aleatoria discreta o continua?"
   ]
  },
  {
   "attachments": {},
   "cell_type": "markdown",
   "metadata": {},
   "source": [
    "Es una variable *discreta* porque toma valores especificos, en este caso, los valores aceptables para esta variable aleatoria son 0,1 y 2, los cuales que expresan la cantidad de *heads* en los dos lanzamientos"
   ]
  },
  {
   "attachments": {},
   "cell_type": "markdown",
   "metadata": {},
   "source": [
    "---"
   ]
  },
  {
   "attachments": {},
   "cell_type": "markdown",
   "metadata": {},
   "source": [
    "3. Considera las decisiones de compra de los próximos tres clientes que lleguen a la tienda de ropa Martin Clothing Store. De acuerdo con la experiencia, el gerente de la tienda estima que la probabilidad de que un cliente realice una compra es 0.30. \n",
    "  - a. Describa si cumple con las reglas para clasificarlo como un experimiento binomial.\n"
   ]
  },
  {
   "attachments": {},
   "cell_type": "markdown",
   "metadata": {},
   "source": [
    "Este experimento si cumple con las caracteristicas de ser un experimento binomial.\n",
    "\n",
    "1. Tiene solo dos resultados posibles (*binomial*), exito o fracaso. En este experimento el exito seria que el ciente realice la compra y el fracaso es el caso contrario.\n",
    "\n",
    "2. Son eventos independientes ya que el resultado de uno no afecta al resultado de los demas\n",
    "\n",
    "3. Tiene un numero de eventos fijo, en este caso son solo tres clientes\n",
    "\n",
    "4. La probabilidad de que un cliente compre (exito) no cambia en cada evento, es constante"
   ]
  },
  {
   "attachments": {},
   "cell_type": "markdown",
   "metadata": {},
   "source": [
    "- b. ¿Cuál es la probabilidad de que dos de los próximos tres clientes realicen una compra?"
   ]
  },
  {
   "cell_type": "code",
   "execution_count": 28,
   "metadata": {},
   "outputs": [],
   "source": [
    "def Factorial(n):\n",
    "    if n == 0:\n",
    "        return 1\n",
    "    else:\n",
    "        return n * Factorial(n - 1)\n",
    "    \n",
    "def Binomial_Distribution(k,n,p):\n",
    "    \"\"\"\n",
    "    Parameters:\n",
    "        k = number of success\\n\n",
    "        n = number of events\\n\n",
    "        p = probablity of success\n",
    "    \"\"\"\n",
    "    success = Factorial(n)\n",
    "    events = Factorial(k) * Factorial(n-k)\n",
    "    success_fail = pow(p,k) * pow(1-p,(n-k))\n",
    "    \n",
    "    return success/events * success_fail"
   ]
  },
  {
   "cell_type": "code",
   "execution_count": 84,
   "metadata": {},
   "outputs": [
    {
     "name": "stdout",
     "output_type": "stream",
     "text": [
      "La probabilidad de que dos de los proximos tres clientes compren es de 0.189 (18.9%)\n"
     ]
    }
   ],
   "source": [
    "p_sucess = 0.30\n",
    "p_fail = 1 - p_sucess\n",
    "n = 2 # Two clients\n",
    "\n",
    "prob = Binomial_Distribution(2,3,0.30)\n",
    "prob_percent = round((prob * 100),2)\n",
    "\n",
    "print(f\"La probabilidad de que dos de los proximos tres clientes compren es de {prob} ({prob_percent}%)\")"
   ]
  },
  {
   "attachments": {},
   "cell_type": "markdown",
   "metadata": {},
   "source": [
    "- c. ¿Cuál es la probabilidad de que cuatro de los próximos diez clientes realicen una compra?"
   ]
  },
  {
   "cell_type": "code",
   "execution_count": 87,
   "metadata": {},
   "outputs": [
    {
     "name": "stdout",
     "output_type": "stream",
     "text": [
      "La probabilidad de que cuatro de los proximos diez compren es de 0.20012094899999994 (20.01%)\n"
     ]
    }
   ],
   "source": [
    "prob = Binomial_Distribution(4,10,0.30)\n",
    "\n",
    "print(f\"La probabilidad de que cuatro de los proximos diez compren es de {prob} ({prob_percent}%)\")"
   ]
  },
  {
   "attachments": {},
   "cell_type": "markdown",
   "metadata": {},
   "source": [
    "---"
   ]
  },
  {
   "attachments": {},
   "cell_type": "markdown",
   "metadata": {},
   "source": [
    "4.  A la oficina de reservaciones de una aerolínea regional llegan 48 llamadas por hora.\n",
    "- a. Calcule la probabilidad de recibir cinco llamadas en un lapso de 5 minutos."
   ]
  },
  {
   "cell_type": "code",
   "execution_count": 70,
   "metadata": {},
   "outputs": [],
   "source": [
    "import numpy as np"
   ]
  },
  {
   "cell_type": "code",
   "execution_count": 71,
   "metadata": {},
   "outputs": [],
   "source": [
    "calls_per_minute = 48/60\n",
    "\n",
    "# Deberia utilizar la distribución de Poisson para resolver este problema\n",
    "\n",
    "def Poisson(lambda_,x):\n",
    "    \"\"\"\n",
    "    Parameters:\\n\n",
    "        lambda_ = average rate of occurrence\\n\n",
    "        x = number of events\n",
    "    \"\"\"\n",
    "    divider = (np.exp(-lambda_)) * (lambda_ ** x)\n",
    "    quotient = Factorial(x)\n",
    "    return divider/quotient"
   ]
  },
  {
   "cell_type": "code",
   "execution_count": 92,
   "metadata": {},
   "outputs": [
    {
     "name": "stdout",
     "output_type": "stream",
     "text": [
      "La probabilidad de recibir 5 llamadas en un lapso de 5 minutos es de 0.15629345185053165 (15.63%)\n"
     ]
    }
   ],
   "source": [
    "minutes_interval = 5\n",
    "expected_calls = 5\n",
    "\n",
    "prob = Poisson(calls_per_minute * minutes_interval,expected_calls)\n",
    "prob_percent = round((prob * 100),2)\n",
    "\n",
    "print(f\"La probabilidad de recibir 5 llamadas en un lapso de 5 minutos es de {prob} ({prob_percent}%)\")"
   ]
  },
  {
   "attachments": {},
   "cell_type": "markdown",
   "metadata": {},
   "source": [
    "- b. Estime la probabilidad de recibir exactamente 10 llamadas en un lapso de 15 minutos."
   ]
  },
  {
   "cell_type": "code",
   "execution_count": 91,
   "metadata": {},
   "outputs": [
    {
     "name": "stdout",
     "output_type": "stream",
     "text": [
      "La probabilidad de recibir 10 llamadas en un lapso de 15 minutos es 0.10483725588365932 (10.48%)\n"
     ]
    }
   ],
   "source": [
    "expected_calls = 10\n",
    "minutes_interval = 15\n",
    "\n",
    "prob = Poisson(calls_per_minute * minutes_interval, expected_calls)\n",
    "prob_percent = round((prob * 100),2)\n",
    "\n",
    "print(f\"La probabilidad de recibir 10 llamadas en un lapso de 15 minutos es {prob} ({prob_percent}%)\")"
   ]
  },
  {
   "attachments": {},
   "cell_type": "markdown",
   "metadata": {},
   "source": [
    "- c. Suponga que no hay ninguna llamada en espera. Si el agente de viajes necesitará 5 minutos para la llamada que está atendiendo, ¿cuántas llamadas habrá en espera para cuando él termine?"
   ]
  },
  {
   "cell_type": "code",
   "execution_count": 76,
   "metadata": {},
   "outputs": [
    {
     "name": "stdout",
     "output_type": "stream",
     "text": [
      "Habrá un total de 4 llamadas esperando cuando el agente termine con la llamada\n"
     ]
    }
   ],
   "source": [
    "expected_calls = 0\n",
    "minutes_interval = 5\n",
    "\n",
    "prob = Poisson(calls_per_minute * minutes_interval,expected_calls)\n",
    "prob_percent = round((prob * 100),2)\n",
    "\n",
    "calls_waiting = calls_per_minute * minutes_interval\n",
    "\n",
    "print(f\"Habrá un total de {int(calls_waiting)} llamadas esperando cuando el agente termine con la llamada\")\n"
   ]
  },
  {
   "attachments": {},
   "cell_type": "markdown",
   "metadata": {},
   "source": [
    "¿Cuál es la probabilidad de que no haya ninguna llamada en espera?"
   ]
  },
  {
   "cell_type": "code",
   "execution_count": 75,
   "metadata": {},
   "outputs": [
    {
     "name": "stdout",
     "output_type": "stream",
     "text": [
      "La probabilidad de que no haya ninguna llamada en espera es de 0.01831563888873418 (1.83%)\n"
     ]
    }
   ],
   "source": [
    "print(f\"La probabilidad de que no haya ninguna llamada en espera es de {prob} ({prob_percent}%)\")\n"
   ]
  },
  {
   "attachments": {},
   "cell_type": "markdown",
   "metadata": {},
   "source": [
    "- d. Si en este momento no hay ninguna llamada, ¿cuál es la probabilidad de que el agente de viajes pueda tomar 3 minutos de descanso sin ser interrumpido por una llamada?"
   ]
  },
  {
   "cell_type": "code",
   "execution_count": 36,
   "metadata": {},
   "outputs": [
    {
     "name": "stdout",
     "output_type": "stream",
     "text": [
      "La probabilidad de que el agente pueda tomarse un descanso de 3 minutos sin recibir una llamada es de 0.09071795328941247\n",
      "El valor calculado representado en porcentaje seria 9.07%\n"
     ]
    }
   ],
   "source": [
    "minutes_interval = 3\n",
    "expected_calls = 0\n",
    "prob = Poisson(calls_per_minute * minutes_interval,expected_calls)\n",
    "prob_percent = round((prob * 100),2)\n",
    "\n",
    "print(f\"La probabilidad de que el agente pueda tomarse un descanso de 3 minutos sin recibir una llamada es de {prob}\")\n",
    "print(f\"El valor calculado representado en porcentaje seria {prob_percent}%\")\n"
   ]
  },
  {
   "attachments": {},
   "cell_type": "markdown",
   "metadata": {},
   "source": [
    "---"
   ]
  },
  {
   "attachments": {},
   "cell_type": "markdown",
   "metadata": {},
   "source": [
    "5. En una encuesta realizada por Gallup Organization, se les preguntó a los interrogados, “Cuál es el deporte que prefieres ver”. Futbol y básquetbol ocuparon el primero y segundo lugar de preferencia (www.gallup.com, 3 de enero de 2004). Si en un grupo de 10 individuos, siete prefieren futbol y tres prefieren básquetbol. Se toma una muestra aleatoria de tres de estas personas.\n",
    "- a. ¿Cuál es la probabilidad de que exactamente dos prefieran el futbol?"
   ]
  },
  {
   "cell_type": "code",
   "execution_count": 37,
   "metadata": {},
   "outputs": [],
   "source": [
    "def BinomialCoeficient(n,k):\n",
    "    return Factorial(n) / ((Factorial(k) * Factorial(n-k)))"
   ]
  },
  {
   "cell_type": "code",
   "execution_count": 38,
   "metadata": {},
   "outputs": [],
   "source": [
    "# Para este ejercicio es necesario que utilice la distribución hipergeometrica\n",
    "\n",
    "def Hypergeometric(N,k,n,x):\n",
    "    \"\"\"\n",
    "    Parameters:\\n\n",
    "        N = population size \\n\n",
    "        k = successes from population \\n\n",
    "        n = sample size \\n\n",
    "        x = successes from sample \\n\n",
    "    \"\"\"\n",
    "    step_1 = BinomialCoeficient(k,x)\n",
    "    step_2 = BinomialCoeficient((N-k),(n-x))\n",
    "    step_3 = BinomialCoeficient(N,n)\n",
    "    return  (step_1 * step_2) / step_3"
   ]
  },
  {
   "cell_type": "code",
   "execution_count": 77,
   "metadata": {},
   "outputs": [
    {
     "name": "stdout",
     "output_type": "stream",
     "text": [
      "La probabilidad de que exactamente dos personas prefieran el futbol es de 0.525 (52.5%)\n"
     ]
    }
   ],
   "source": [
    "prob = Hypergeometric(10,7,3,2)\n",
    "prob_percent = round((prob * 100),2)\n",
    "\n",
    "print(f\"La probabilidad de que exactamente dos personas prefieran el futbol es de {prob} ({prob_percent}%)\")"
   ]
  },
  {
   "attachments": {},
   "cell_type": "markdown",
   "metadata": {},
   "source": [
    "- b. ¿De que la mayoría (ya sean dos o tres) prefiere el futbol?"
   ]
  },
  {
   "cell_type": "code",
   "execution_count": 79,
   "metadata": {},
   "outputs": [
    {
     "name": "stdout",
     "output_type": "stream",
     "text": [
      "La probabilidad de que la mayoria de las personas de la muestra prefieran el futbol es de 0.2916666666666667 (29.17%)\n"
     ]
    }
   ],
   "source": [
    "prob = Hypergeometric(10,7,3,3)\n",
    "prob_percent = round((prob * 100),2)\n",
    "\n",
    "print(f\"La probabilidad de que la mayoria de las personas de la muestra prefieran el futbol es de {prob} ({prob_percent}%)\")"
   ]
  },
  {
   "attachments": {},
   "cell_type": "markdown",
   "metadata": {},
   "source": [
    "---"
   ]
  },
  {
   "attachments": {},
   "cell_type": "markdown",
   "metadata": {},
   "source": [
    "6. La probabilidad de que a un estudiante le guste este modulo es de 0.7 (en Henry somos optimistas), cual es la probabilidad de que les guste este módulo a 6 de los 10 estudiantes.<br>"
   ]
  },
  {
   "attachments": {},
   "cell_type": "markdown",
   "metadata": {},
   "source": [
    "Para este ejercicio, necesito utilizar la ***distribución binomial*** ya que implica contar el numero de exitos (cantidad de alumnos a los que les gusta el módulo) en una muestrta fija (10 alumnos)"
   ]
  },
  {
   "cell_type": "code",
   "execution_count": 80,
   "metadata": {},
   "outputs": [
    {
     "name": "stdout",
     "output_type": "stream",
     "text": [
      "La probabilidad de que a 6 de 10 alumnos les guste este módulo es de 0.20012094900000005 (20.01%)\n"
     ]
    }
   ],
   "source": [
    "k = 6 # number of success\n",
    "n = 10 # sample size\n",
    "p = 0.7 # probability of success\n",
    "\n",
    "prob = Binomial_Distribution(k,n,p)\n",
    "prob_percent = round((prob*100),2)\n",
    "\n",
    "print(f\"La probabilidad de que a 6 de 10 alumnos les guste este módulo es de {prob} ({prob_percent}%)\")\n"
   ]
  },
  {
   "attachments": {},
   "cell_type": "markdown",
   "metadata": {},
   "source": [
    "---"
   ]
  },
  {
   "attachments": {},
   "cell_type": "markdown",
   "metadata": {},
   "source": [
    "7. De todos los push a Git en un Henry Challenge, el 90% lo envía a término. Si se envían 9 ¿cuál es la probabilidad de que 7 lleguen a término?.<br>"
   ]
  },
  {
   "cell_type": "code",
   "execution_count": 83,
   "metadata": {},
   "outputs": [
    {
     "name": "stdout",
     "output_type": "stream",
     "text": [
      "La probabilidad de que 7 pushs de Git lleguen a término es de 0.17218688399999993 (17.22%)\n"
     ]
    }
   ],
   "source": [
    "k = 7 # number of success\n",
    "n = 9 # sample size\n",
    "p = 0.9 # probability of success\n",
    "\n",
    "prob = Binomial_Distribution(k,n,p)\n",
    "prob_percent = round((prob*100),2)\n",
    "\n",
    "print(f\"La probabilidad de que 7 pushs de Git lleguen a término es de {prob} ({prob_percent}%)\")"
   ]
  },
  {
   "attachments": {},
   "cell_type": "markdown",
   "metadata": {},
   "source": [
    "---"
   ]
  },
  {
   "attachments": {},
   "cell_type": "markdown",
   "metadata": {},
   "source": [
    "8. En relación con el enunciado anterior cálcule la probabilidad de que 7 o más lleguen a término.<br>"
   ]
  },
  {
   "cell_type": "code",
   "execution_count": 53,
   "metadata": {},
   "outputs": [
    {
     "name": "stdout",
     "output_type": "stream",
     "text": [
      "Probabilidad de que 7 lleguen a termino: 0.17218688399999993 (17.22%)\n",
      "Probabilidad de que 8 lleguen a termino: 0.38742048900000003 (38.74%)\n",
      "Probabilidad de que 9 lleguen a termino: 0.3874204890000001 (38.74%)\n",
      "\n",
      "La probabiliadad de que 7 o más llegen a termino es de 0.9470278620000001 (94.7%)\n"
     ]
    }
   ],
   "source": [
    "prob_7 = Binomial_Distribution(7,9,0.9)\n",
    "prob_8 = Binomial_Distribution(8,9,0.9)\n",
    "prob_9 = Binomial_Distribution(9,9,0.9)\n",
    "\n",
    "print(f\"Probabilidad de que 7 lleguen a termino: {prob_7} ({round(prob_7 * 100,2)}%)\")\n",
    "print(f\"Probabilidad de que 8 lleguen a termino: {prob_8} ({round(prob_8 * 100,2)}%)\")\n",
    "print(f\"Probabilidad de que 9 lleguen a termino: {prob_9} ({round(prob_9 * 100,2)}%)\")\n",
    "print(\"\")\n",
    "print(f\"La probabiliadad de que 7 o más llegen a termino es de {prob_7 + prob_8 + prob_9} ({round((prob_7 + prob_8 + prob_9) * 100,2)}%)\")\n"
   ]
  },
  {
   "attachments": {},
   "cell_type": "markdown",
   "metadata": {},
   "source": [
    "---"
   ]
  },
  {
   "attachments": {},
   "cell_type": "markdown",
   "metadata": {},
   "source": [
    "9. La cantidad de alumnos promedio que se ausentan en un día de clases en la carrera de Data Science es de 10. Calcular cual es la probabilidad de que se ausenten 7 alumnos.<br>"
   ]
  },
  {
   "cell_type": "code",
   "execution_count": 57,
   "metadata": {},
   "outputs": [
    {
     "name": "stdout",
     "output_type": "stream",
     "text": [
      "La probabilidad de que 7 alumnos falten un dia de clase es de 0.09007922571921599 (9.01%)\n"
     ]
    }
   ],
   "source": [
    "prob = Poisson(10,7)\n",
    "prob_percent = round((prob * 100),2)\n",
    "\n",
    "print(f\"La probabilidad de que 7 alumnos falten un dia de clase es de {prob} ({prob_percent}%)\")"
   ]
  },
  {
   "attachments": {},
   "cell_type": "markdown",
   "metadata": {},
   "source": [
    "---"
   ]
  },
  {
   "attachments": {},
   "cell_type": "markdown",
   "metadata": {},
   "source": [
    "10. Cuando inicia una clase, los estudiantes ingresan a un ritmo de 5 estudiantes por minuto. Calcular cual es la probabilidad de que ingresen 7 estudiantes por minuto.<br>"
   ]
  },
  {
   "cell_type": "code",
   "execution_count": 67,
   "metadata": {},
   "outputs": [
    {
     "name": "stdout",
     "output_type": "stream",
     "text": [
      "La probabilidad de que ingresen 7 alumnos por minuto es de 0.104444862957054 (10.44%)\n"
     ]
    }
   ],
   "source": [
    "lambda_ = 5 # 5 students per minute\n",
    "x = 7 # 7 students per minute\n",
    "prob = Poisson(lambda_,x)\n",
    "prob_percent = round((prob * 100),2)\n",
    "\n",
    "print(f\"La probabilidad de que ingresen 7 alumnos por minuto es de {prob} ({prob_percent}%)\")"
   ]
  }
 ],
 "metadata": {
  "kernelspec": {
   "display_name": "Python 3",
   "language": "python",
   "name": "python3"
  },
  "language_info": {
   "codemirror_mode": {
    "name": "ipython",
    "version": 3
   },
   "file_extension": ".py",
   "mimetype": "text/x-python",
   "name": "python",
   "nbconvert_exporter": "python",
   "pygments_lexer": "ipython3",
   "version": "3.10.11"
  },
  "orig_nbformat": 4
 },
 "nbformat": 4,
 "nbformat_minor": 2
}
