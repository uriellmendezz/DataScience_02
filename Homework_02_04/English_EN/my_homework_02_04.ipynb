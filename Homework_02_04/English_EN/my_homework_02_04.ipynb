{
 "cells": [
  {
   "attachments": {},
   "cell_type": "markdown",
   "metadata": {},
   "source": [
    "# Homework Class 4 - Module 2"
   ]
  },
  {
   "attachments": {},
   "cell_type": "markdown",
   "metadata": {},
   "source": [
    "1. Consider the experiment that involves an employee assembling a product.\n",
    "- a. Define the random variable that represents the time in minutes required to assemble the product.<br>"
   ]
  },
  {
   "attachments": {},
   "cell_type": "markdown",
   "metadata": {},
   "source": [
    "X = Seconds required to assemble a product (Time Dimension)"
   ]
  },
  {
   "attachments": {},
   "cell_type": "markdown",
   "metadata": {},
   "source": [
    "- b. What values does the random variable take?<br>"
   ]
  },
  {
   "attachments": {},
   "cell_type": "markdown",
   "metadata": {},
   "source": [
    "The random variable \"X\" takes as values numbers greater than zero since it expresses the dimension of time"
   ]
  },
  {
   "attachments": {},
   "cell_type": "markdown",
   "metadata": {},
   "source": [
    "- c. Is it a discrete or continuous random variable?<br>"
   ]
  },
  {
   "attachments": {},
   "cell_type": "markdown",
   "metadata": {},
   "source": [
    "It is a *continuous* variable because it can take values within a continuous range of numbers."
   ]
  },
  {
   "attachments": {},
   "cell_type": "markdown",
   "metadata": {},
   "source": [
    "---"
   ]
  },
  {
   "attachments": {},
   "cell_type": "markdown",
   "metadata": {},
   "source": [
    "2. Consider the experiment that involves flipping a coin twice.\n",
    "- a. List the experimental results."
   ]
  },
  {
   "attachments": {},
   "cell_type": "markdown",
   "metadata": {},
   "source": [
    "Head = H<br>\n",
    "Tail = T<br>\n",
    "Possible results = [\"H\",\"T\"] (2)<br>\n",
    "2 (possible outcomes for each event) ** n (repetitions) = 2 ** 2 = 4 <br>\n",
    "Sample space = {[H,H],[H,T],[T,T],[T,H]} (4)"
   ]
  },
  {
   "attachments": {},
   "cell_type": "markdown",
   "metadata": {},
   "source": [
    "-b. Define a random variable that represents the number of heads in the two tosses."
   ]
  },
  {
   "attachments": {},
   "cell_type": "markdown",
   "metadata": {},
   "source": [
    "X = Number of *Heads* in the two throws"
   ]
  },
  {
   "attachments": {},
   "cell_type": "markdown",
   "metadata": {},
   "source": [
    "- c. Give the value that the random variable will take on for each of the experimental results."
   ]
  },
  {
   "attachments": {},
   "cell_type": "markdown",
   "metadata": {},
   "source": [
    "1. [H,H] ---> X = 2<br><br>\n",
    "2. [H,T] ---> X = 1<br><br>\n",
    "3. [T,T] ---> X = 0<br><br>\n",
    "4. [T,H] ---> X = 1<br><br>"
   ]
  },
  {
   "attachments": {},
   "cell_type": "markdown",
   "metadata": {},
   "source": [
    "- d. It is a discret o continuos random variable?"
   ]
  },
  {
   "attachments": {},
   "cell_type": "markdown",
   "metadata": {},
   "source": [
    "It is a *discrete* variable because it takes specific values, in this case, the acceptable values for this random variable are 0,1 and 2, which express the number of *heads* in the two launches"
   ]
  },
  {
   "attachments": {},
   "cell_type": "markdown",
   "metadata": {},
   "source": [
    "---"
   ]
  },
  {
   "attachments": {},
   "cell_type": "markdown",
   "metadata": {},
   "source": [
    "3. Consider the purchasing decisions of the next three customers who arrive at the Martin Clothing Store. Based on experience, the store manager estimates that the probability that a customer will make a purchase is 0.30.\n",
    "- a. Describe whether it meets the rules for classifying it as a binomial experiment."
   ]
  },
  {
   "attachments": {},
   "cell_type": "markdown",
   "metadata": {},
   "source": [
    "This experiment does meet the characteristics of being a binomial experiment.\n",
    "\n",
    "1. It has only two possible outcomes (*binomial*), success or failure. In this experiment the success would be that the client makes the purchase and the failure is the opposite case.\n",
    "\n",
    "2. They are independent events since the result of one does not affect the result of the others\n",
    "\n",
    "3. It has a fixed number of events, in this case there are only three clients\n",
    "\n",
    "4. The probability that a customer buys (success) does not change in each event, it is constant"
   ]
  },
  {
   "attachments": {},
   "cell_type": "markdown",
   "metadata": {},
   "source": [
    "- b. What is the probability that two of the next three customers will make a purchase?"
   ]
  },
  {
   "cell_type": "code",
   "execution_count": 2,
   "metadata": {},
   "outputs": [],
   "source": [
    "def Factorial(n):\n",
    "    if n == 0:\n",
    "        return 1\n",
    "    else:\n",
    "        return n * Factorial(n - 1)\n",
    "    \n",
    "def Binomial_Distribution(k,n,p):\n",
    "    \"\"\"\n",
    "    Parameters:\n",
    "        k = number of success\\n\n",
    "        n = number of events\\n\n",
    "        p = probablity of success\n",
    "    \"\"\"\n",
    "    success = Factorial(n)\n",
    "    events = Factorial(k) * Factorial(n-k)\n",
    "    success_fail = pow(p,k) * pow(1-p,(n-k))\n",
    "    \n",
    "    return success/events * success_fail"
   ]
  },
  {
   "cell_type": "code",
   "execution_count": 3,
   "metadata": {},
   "outputs": [
    {
     "name": "stdout",
     "output_type": "stream",
     "text": [
      "The probability that two of the next three customers will buy is 0.189 (18.9%)\n"
     ]
    }
   ],
   "source": [
    "p_sucess = 0.30\n",
    "p_fail = 1 - p_sucess\n",
    "n = 2 # Two clients\n",
    "\n",
    "prob = Binomial_Distribution(2,3,0.30)\n",
    "prob_percent = round((prob * 100),2)\n",
    "\n",
    "print(f\"The probability that two of the next three customers will buy is {prob} ({prob_percent}%)\")"
   ]
  },
  {
   "attachments": {},
   "cell_type": "markdown",
   "metadata": {},
   "source": [
    "- c. What is the probability that four of the next ten customers will make a purchase?"
   ]
  },
  {
   "cell_type": "code",
   "execution_count": 22,
   "metadata": {},
   "outputs": [
    {
     "name": "stdout",
     "output_type": "stream",
     "text": [
      "The probability that four of the next ten will make a purchase is 0.20012094899999994 (10.44%)\n"
     ]
    }
   ],
   "source": [
    "prob = Binomial_Distribution(4,10,0.30)\n",
    "print(f\"The probability that four of the next ten will make a purchase is {prob} ({prob_percent}%)\")"
   ]
  },
  {
   "attachments": {},
   "cell_type": "markdown",
   "metadata": {},
   "source": [
    "---"
   ]
  },
  {
   "attachments": {},
   "cell_type": "markdown",
   "metadata": {},
   "source": [
    "4. The reservations office of a regional airline receives 48 calls per hour.\n",
    "- a. Find the probability of receiving five calls in a period of 5 minutes."
   ]
  },
  {
   "cell_type": "code",
   "execution_count": 5,
   "metadata": {},
   "outputs": [],
   "source": [
    "import numpy as np"
   ]
  },
  {
   "cell_type": "code",
   "execution_count": 23,
   "metadata": {},
   "outputs": [],
   "source": [
    "calls_per_minute = 48/60\n",
    "\n",
    "# To solve this problem, I should use the Poisson distribution\n",
    "\n",
    "def Poisson(lambda_,x):\n",
    "    \"\"\"\n",
    "    Parameters:\\n\n",
    "        lambda_ = average rate of occurrence\\n\n",
    "        x = number of events\n",
    "    \"\"\"\n",
    "    divider = (np.exp(-lambda_)) * (lambda_ ** x)\n",
    "    quotient = Factorial(x)\n",
    "    return divider/quotient"
   ]
  },
  {
   "cell_type": "code",
   "execution_count": 24,
   "metadata": {},
   "outputs": [
    {
     "name": "stdout",
     "output_type": "stream",
     "text": [
      "The probability of receiving 5 calls in a period of 5 minutes is 0.15629345185053165 (15.63%)\n"
     ]
    }
   ],
   "source": [
    "minutes_interval = 5\n",
    "expected_calls = 5\n",
    "\n",
    "prob = Poisson(calls_per_minute * minutes_interval,expected_calls)\n",
    "prob_percent = round((prob * 100),2)\n",
    "\n",
    "print(f\"The probability of receiving 5 calls in a period of 5 minutes is {prob} ({prob_percent}%)\")"
   ]
  },
  {
   "attachments": {},
   "cell_type": "markdown",
   "metadata": {},
   "source": [
    "- b. Estimate the probability of receiving exactly 10 calls in a period of 15 minutes."
   ]
  },
  {
   "cell_type": "code",
   "execution_count": 25,
   "metadata": {},
   "outputs": [
    {
     "name": "stdout",
     "output_type": "stream",
     "text": [
      "The probability of receiving 10 calls in a period of 15 minutes is 0.10483725588365932 (10.48%)\n"
     ]
    }
   ],
   "source": [
    "expected_calls = 10\n",
    "minutes_interval = 15\n",
    "\n",
    "prob = Poisson(calls_per_minute * minutes_interval, expected_calls)\n",
    "prob_percent = round((prob * 100),2)\n",
    "\n",
    "print(f\"The probability of receiving 10 calls in a period of 15 minutes is {prob} ({prob_percent}%)\")"
   ]
  },
  {
   "attachments": {},
   "cell_type": "markdown",
   "metadata": {},
   "source": [
    "- c. Suppose there isn't call waiting. If the travel agent will need 5 minutes for the call he is taking, how many calls will be on hold by the time he is done?"
   ]
  },
  {
   "cell_type": "code",
   "execution_count": 26,
   "metadata": {},
   "outputs": [
    {
     "name": "stdout",
     "output_type": "stream",
     "text": [
      "There will be a total of 4 calls waiting when the agent is done with the call\n"
     ]
    }
   ],
   "source": [
    "expected_calls = 0\n",
    "minutes_interval = 5\n",
    "\n",
    "prob = Poisson(calls_per_minute * minutes_interval,expected_calls)\n",
    "prob_percent = round((prob * 100),2)\n",
    "\n",
    "calls_waiting = calls_per_minute * minutes_interval\n",
    "\n",
    "print(f\"There will be a total of {int(calls_waiting)} calls waiting when the agent is done with the call\")"
   ]
  },
  {
   "attachments": {},
   "cell_type": "markdown",
   "metadata": {},
   "source": [
    "What is the probability that there aren't calls waiting?\n",
    "\n"
   ]
  },
  {
   "cell_type": "code",
   "execution_count": 28,
   "metadata": {},
   "outputs": [
    {
     "name": "stdout",
     "output_type": "stream",
     "text": [
      "The probability that will not calls waiting is 0.01831563888873418 (1.83%)\n"
     ]
    }
   ],
   "source": [
    "print(f\"The probability that will not calls waiting is {prob} ({prob_percent}%)\")"
   ]
  },
  {
   "attachments": {},
   "cell_type": "markdown",
   "metadata": {},
   "source": [
    "- d. If there are currently no calls, what is the probability that the travel agent can take a 3 minute break without being interrupted by a call?"
   ]
  },
  {
   "cell_type": "code",
   "execution_count": 31,
   "metadata": {},
   "outputs": [
    {
     "name": "stdout",
     "output_type": "stream",
     "text": [
      "The probability that the agent can take 3 minutes of break without receiving a call is 0.09071795328941247 (9.07%)\n"
     ]
    }
   ],
   "source": [
    "minutes_interval = 3\n",
    "expected_calls = 0\n",
    "prob = Poisson(calls_per_minute * minutes_interval,expected_calls)\n",
    "prob_percent = round((prob * 100),2)\n",
    "\n",
    "print(f\"The probability that the agent can take 3 minutes of break without receiving a call is {prob} ({prob_percent}%)\")"
   ]
  },
  {
   "attachments": {},
   "cell_type": "markdown",
   "metadata": {},
   "source": [
    "---"
   ]
  },
  {
   "attachments": {},
   "cell_type": "markdown",
   "metadata": {},
   "source": [
    "5. In a poll conducted by the Gallup Organization, respondents were asked, \"What is the sport you prefer to watch.\" Soccer and basketball ranked first and second in preference (www.gallup.com, January 3, 2004). If in a group of 10 individuals, seven prefer soccer and three prefer basketball. A random sample of three of these people is taken.\n",
    "- a. What is the probability that exactly two prefer soccer?"
   ]
  },
  {
   "cell_type": "code",
   "execution_count": 12,
   "metadata": {},
   "outputs": [],
   "source": [
    "def BinomialCoeficient(n,k):\n",
    "    return Factorial(n) / ((Factorial(k) * Factorial(n-k)))"
   ]
  },
  {
   "cell_type": "code",
   "execution_count": 32,
   "metadata": {},
   "outputs": [],
   "source": [
    "# For this exercise, it's necesary for me to use the Hypergeometric distribution of probability\n",
    "\n",
    "def Hypergeometric(N,k,n,x):\n",
    "    \"\"\"\n",
    "    Parameters:\\n\n",
    "        N = population size \\n\n",
    "        k = successes from population \\n\n",
    "        n = sample size \\n\n",
    "        x = successes from sample \\n\n",
    "    \"\"\"\n",
    "    step_1 = BinomialCoeficient(k,x)\n",
    "    step_2 = BinomialCoeficient((N-k),(n-x))\n",
    "    step_3 = BinomialCoeficient(N,n)\n",
    "    return  (step_1 * step_2) / step_3"
   ]
  },
  {
   "cell_type": "code",
   "execution_count": 33,
   "metadata": {},
   "outputs": [
    {
     "name": "stdout",
     "output_type": "stream",
     "text": [
      "The probability that exactly two people prefer soccer is 0.525 (52.5%)\n"
     ]
    }
   ],
   "source": [
    "prob = Hypergeometric(10,7,3,2)\n",
    "prob_percent = round((prob * 100),2)\n",
    "\n",
    "print(f\"The probability that exactly two people prefer soccer is {prob} ({prob_percent}%)\")"
   ]
  },
  {
   "attachments": {},
   "cell_type": "markdown",
   "metadata": {},
   "source": [
    "-b. That the majority (whether two or three) prefer soccer?"
   ]
  },
  {
   "cell_type": "code",
   "execution_count": 34,
   "metadata": {},
   "outputs": [
    {
     "name": "stdout",
     "output_type": "stream",
     "text": [
      "The probability that the majority of people in the sample prefer soccer is 0.2916666666666667 (29.17%)\n"
     ]
    }
   ],
   "source": [
    "prob = Hypergeometric(10,7,3,3)\n",
    "prob_percent = round((prob * 100),2)\n",
    "\n",
    "print(f\"The probability that the majority of people in the sample prefer soccer is {prob} ({prob_percent}%)\")"
   ]
  },
  {
   "attachments": {},
   "cell_type": "markdown",
   "metadata": {},
   "source": [
    "---"
   ]
  },
  {
   "attachments": {},
   "cell_type": "markdown",
   "metadata": {},
   "source": [
    "6. The probability that a student likes this module is 0.7 (in Henry we are optimistic), which is the probability that 6 of the 10 students like this module.<br>"
   ]
  },
  {
   "attachments": {},
   "cell_type": "markdown",
   "metadata": {},
   "source": [
    "For this exercise, I need to use the ***binomial distribution*** as it involves counting the number of successes (number of students who like the module) in a fixed sample (10 students)"
   ]
  },
  {
   "cell_type": "code",
   "execution_count": 36,
   "metadata": {},
   "outputs": [
    {
     "name": "stdout",
     "output_type": "stream",
     "text": [
      "The probability that 6 of 10 students like this module is 0.20012094900000005 (20.01%)\n"
     ]
    }
   ],
   "source": [
    "k = 6 # number of success\n",
    "n = 10 # sample size\n",
    "p = 0.7 # probability of success\n",
    "\n",
    "prob = Binomial_Distribution(k,n,p)\n",
    "prob_percent = round((prob*100),2)\n",
    "\n",
    "print(f\"The probability that 6 of 10 students like this module is {prob} ({prob_percent}%)\")"
   ]
  },
  {
   "attachments": {},
   "cell_type": "markdown",
   "metadata": {},
   "source": [
    "---"
   ]
  },
  {
   "attachments": {},
   "cell_type": "markdown",
   "metadata": {},
   "source": [
    "7. Of all the Git pushes in a Henry Challenge, 90% send it to completion. If 9 are sent, what is the probability that 7 arrive at term?.<br>"
   ]
  },
  {
   "cell_type": "code",
   "execution_count": 38,
   "metadata": {},
   "outputs": [
    {
     "name": "stdout",
     "output_type": "stream",
     "text": [
      "The probability that 7 Git pushes will send correctly is 0.17218688399999993 (17.22%)\n"
     ]
    }
   ],
   "source": [
    "k = 7 # number of success\n",
    "n = 9 # sample size\n",
    "p = 0.9 # probability of success\n",
    "\n",
    "prob = Binomial_Distribution(k,n,p)\n",
    "prob_percent = round((prob*100),2)\n",
    "\n",
    "print(f\"The probability that 7 Git pushes will send correctly is {prob} ({prob_percent}%)\")"
   ]
  },
  {
   "attachments": {},
   "cell_type": "markdown",
   "metadata": {},
   "source": [
    "---"
   ]
  },
  {
   "attachments": {},
   "cell_type": "markdown",
   "metadata": {},
   "source": [
    "8. In relation to the previous exercise, calculate the probability that 7 or more come to term.<br>"
   ]
  },
  {
   "cell_type": "code",
   "execution_count": 42,
   "metadata": {},
   "outputs": [
    {
     "name": "stdout",
     "output_type": "stream",
     "text": [
      "Probability that 7 will send correctly: 0.17218688399999993 (17.22%)\n",
      "Probability that 8 will send correctly: 0.38742048900000003 (38.74%)\n",
      "Probability that 9 will send correctly: 0.3874204890000001 (38.74%)\n",
      "\n",
      "The probability that 7 or more come to term is 0.9470278620000001 (94.7%)\n"
     ]
    }
   ],
   "source": [
    "prob_7 = Binomial_Distribution(7,9,0.9)\n",
    "prob_8 = Binomial_Distribution(8,9,0.9)\n",
    "prob_9 = Binomial_Distribution(9,9,0.9)\n",
    "\n",
    "print(f\"Probability that 7 will send correctly: {prob_7} ({round(prob_7 * 100,2)}%)\")\n",
    "print(f\"Probability that 8 will send correctly: {prob_8} ({round(prob_8 * 100,2)}%)\")\n",
    "print(f\"Probability that 9 will send correctly: {prob_9} ({round(prob_9 * 100,2)}%)\")\n",
    "print(\"\")\n",
    "print(f\"The probability that 7 or more come to term is {prob_7 + prob_8 + prob_9} ({round((prob_7 + prob_8 + prob_9) * 100,2)}%)\")\n"
   ]
  },
  {
   "attachments": {},
   "cell_type": "markdown",
   "metadata": {},
   "source": [
    "---"
   ]
  },
  {
   "attachments": {},
   "cell_type": "markdown",
   "metadata": {},
   "source": [
    "9. The average number of students who are absent on a day of classes in the Data Science is 10. Calculate the probability that 7 students are absent.<br>"
   ]
  },
  {
   "cell_type": "code",
   "execution_count": 43,
   "metadata": {},
   "outputs": [
    {
     "name": "stdout",
     "output_type": "stream",
     "text": [
      "The probability that 7 students miss a day of class is 0.09007922571921599 (9.01%)\n"
     ]
    }
   ],
   "source": [
    "prob = Poisson(10,7)\n",
    "prob_percent = round((prob * 100),2)\n",
    "\n",
    "print(f\"The probability that 7 students miss a day of class is {prob} ({prob_percent}%)\")"
   ]
  },
  {
   "attachments": {},
   "cell_type": "markdown",
   "metadata": {},
   "source": [
    "---"
   ]
  },
  {
   "attachments": {},
   "cell_type": "markdown",
   "metadata": {},
   "source": [
    "10. When a class starts, students enter at a rate of 5 students per minute. Calculate the probability that 7 students enter per minute.<br>"
   ]
  },
  {
   "cell_type": "code",
   "execution_count": 44,
   "metadata": {},
   "outputs": [
    {
     "name": "stdout",
     "output_type": "stream",
     "text": [
      "The probability that 7 students enter per minute is 0.104444862957054 (10.44%)\n"
     ]
    }
   ],
   "source": [
    "lambda_ = 5 # 5 students per minute\n",
    "x = 7 # 7 students per minute\n",
    "prob = Poisson(lambda_,x)\n",
    "prob_percent = round((prob * 100),2)\n",
    "\n",
    "print(f\"The probability that 7 students enter per minute is {prob} ({prob_percent}%)\")"
   ]
  }
 ],
 "metadata": {
  "kernelspec": {
   "display_name": "Python 3",
   "language": "python",
   "name": "python3"
  },
  "language_info": {
   "codemirror_mode": {
    "name": "ipython",
    "version": 3
   },
   "file_extension": ".py",
   "mimetype": "text/x-python",
   "name": "python",
   "nbconvert_exporter": "python",
   "pygments_lexer": "ipython3",
   "version": "3.10.11"
  },
  "orig_nbformat": 4
 },
 "nbformat": 4,
 "nbformat_minor": 2
}
