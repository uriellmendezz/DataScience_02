{
 "cells": [
  {
   "cell_type": "code",
   "execution_count": 17,
   "metadata": {},
   "outputs": [],
   "source": [
    "import requests\n",
    "import pymysql\n",
    "from io import StringIO\n",
    "import csv"
   ]
  },
  {
   "cell_type": "code",
   "execution_count": 19,
   "metadata": {},
   "outputs": [],
   "source": [
    "file_request = requests.get(\"https://cdn.buenosaires.gob.ar/datosabiertos/datasets/ente-de-turismo/oferta-establecimientos-gastronomicos/oferta_gastronomica.csv\")\n",
    "file_request.encoding = \"utf-8\"\n",
    "\n",
    "file_request = file_request.text\n",
    "document = csv.reader(StringIO(file_request))"
   ]
  },
  {
   "cell_type": "code",
   "execution_count": null,
   "metadata": {},
   "outputs": [],
   "source": [
    "locales = [(linea[3], linea[4], linea[13], linea[14], linea[15][7:]) for linea in document]"
   ]
  },
  {
   "cell_type": "code",
   "execution_count": null,
   "metadata": {},
   "outputs": [],
   "source": [
    "diccionario = {}\n",
    "for i in locales[0]:\n",
    "    diccionario[i] = []"
   ]
  },
  {
   "cell_type": "code",
   "execution_count": null,
   "metadata": {},
   "outputs": [
    {
     "data": {
      "text/plain": [
       "dict_keys(['nombre', 'categoria', 'direccion_completa', 'barrio', ''])"
      ]
     },
     "execution_count": 5,
     "metadata": {},
     "output_type": "execute_result"
    }
   ],
   "source": [
    "diccionario.keys()"
   ]
  },
  {
   "cell_type": "code",
   "execution_count": null,
   "metadata": {},
   "outputs": [
    {
     "data": {
      "text/plain": [
       "dict_keys(['nombre', 'categoria', 'direccion_completa', 'barrio', 'comuna'])"
      ]
     },
     "execution_count": 6,
     "metadata": {},
     "output_type": "execute_result"
    }
   ],
   "source": [
    "diccionario[\"comuna\"] = diccionario.pop(\"\")\n",
    "diccionario.keys()"
   ]
  },
  {
   "cell_type": "code",
   "execution_count": null,
   "metadata": {},
   "outputs": [],
   "source": [
    "claves = list(diccionario.keys())\n",
    "for linea in locales[1:]:\n",
    "    for i in range(len(claves)):\n",
    "        diccionario[claves[i]].append(linea[i])"
   ]
  },
  {
   "attachments": {},
   "cell_type": "markdown",
   "metadata": {},
   "source": [
    "Just to visualize the data, I created a dataframe"
   ]
  },
  {
   "cell_type": "code",
   "execution_count": null,
   "metadata": {},
   "outputs": [
    {
     "data": {
      "text/html": [
       "<div>\n",
       "<style scoped>\n",
       "    .dataframe tbody tr th:only-of-type {\n",
       "        vertical-align: middle;\n",
       "    }\n",
       "\n",
       "    .dataframe tbody tr th {\n",
       "        vertical-align: top;\n",
       "    }\n",
       "\n",
       "    .dataframe thead th {\n",
       "        text-align: right;\n",
       "    }\n",
       "</style>\n",
       "<table border=\"1\" class=\"dataframe\">\n",
       "  <thead>\n",
       "    <tr style=\"text-align: right;\">\n",
       "      <th></th>\n",
       "      <th>nombre</th>\n",
       "      <th>categoria</th>\n",
       "      <th>direccion_completa</th>\n",
       "      <th>barrio</th>\n",
       "      <th>comuna</th>\n",
       "    </tr>\n",
       "  </thead>\n",
       "  <tbody>\n",
       "    <tr>\n",
       "      <th>0</th>\n",
       "      <td>GUANTANAMERA</td>\n",
       "      <td>RESTAURANTE</td>\n",
       "      <td>MOREAU DE JUSTO, ALICIA AV. 2092</td>\n",
       "      <td>Puerto Madero</td>\n",
       "      <td>1</td>\n",
       "    </tr>\n",
       "    <tr>\n",
       "      <th>1</th>\n",
       "      <td>1843 VINACOTECA</td>\n",
       "      <td>VINERIA</td>\n",
       "      <td>HUMBERTO 1º 1843</td>\n",
       "      <td>San Cristobal</td>\n",
       "      <td>3</td>\n",
       "    </tr>\n",
       "    <tr>\n",
       "      <th>2</th>\n",
       "      <td>2080 EXPRESS</td>\n",
       "      <td>RESTAURANTE</td>\n",
       "      <td>JURAMENTO AV. 2080</td>\n",
       "      <td>Belgrano</td>\n",
       "      <td>13</td>\n",
       "    </tr>\n",
       "    <tr>\n",
       "      <th>3</th>\n",
       "      <td>22</td>\n",
       "      <td>CAFE</td>\n",
       "      <td>MURGUIONDO 4188</td>\n",
       "      <td>Villa Lugano</td>\n",
       "      <td>8</td>\n",
       "    </tr>\n",
       "    <tr>\n",
       "      <th>4</th>\n",
       "      <td>4 EN 2 I</td>\n",
       "      <td>RESTAURANTE</td>\n",
       "      <td>BORGES, JORGE LUIS 2095</td>\n",
       "      <td>Palermo</td>\n",
       "      <td>14</td>\n",
       "    </tr>\n",
       "    <tr>\n",
       "      <th>5</th>\n",
       "      <td>4 X 4 CAFE</td>\n",
       "      <td>BAR</td>\n",
       "      <td>DEL LIBERTADOR AV. 3838</td>\n",
       "      <td>Palermo</td>\n",
       "      <td>14</td>\n",
       "    </tr>\n",
       "    <tr>\n",
       "      <th>6</th>\n",
       "      <td>5TA AVENIDA</td>\n",
       "      <td>RESTAURANTE</td>\n",
       "      <td>SARMIENTO 814</td>\n",
       "      <td>San Nicolas</td>\n",
       "      <td>1</td>\n",
       "    </tr>\n",
       "    <tr>\n",
       "      <th>7</th>\n",
       "      <td>5TA AVENIDA I</td>\n",
       "      <td>RESTAURANTE</td>\n",
       "      <td>SARMIENTO 381</td>\n",
       "      <td>San Nicolas</td>\n",
       "      <td>1</td>\n",
       "    </tr>\n",
       "    <tr>\n",
       "      <th>8</th>\n",
       "      <td>5TA ZONA</td>\n",
       "      <td></td>\n",
       "      <td>MURILLO 1049</td>\n",
       "      <td>Villa Crespo</td>\n",
       "      <td>15</td>\n",
       "    </tr>\n",
       "    <tr>\n",
       "      <th>9</th>\n",
       "      <td>650</td>\n",
       "      <td>RESTAURANTE</td>\n",
       "      <td>SAN MARTIN 650</td>\n",
       "      <td>San Nicolas</td>\n",
       "      <td>1</td>\n",
       "    </tr>\n",
       "  </tbody>\n",
       "</table>\n",
       "</div>"
      ],
      "text/plain": [
       "            nombre    categoria                direccion_completa  \\\n",
       "0     GUANTANAMERA  RESTAURANTE  MOREAU DE JUSTO, ALICIA AV. 2092   \n",
       "1  1843 VINACOTECA      VINERIA                  HUMBERTO 1º 1843   \n",
       "2     2080 EXPRESS  RESTAURANTE                JURAMENTO AV. 2080   \n",
       "3               22         CAFE                   MURGUIONDO 4188   \n",
       "4         4 EN 2 I  RESTAURANTE           BORGES, JORGE LUIS 2095   \n",
       "5       4 X 4 CAFE          BAR           DEL LIBERTADOR AV. 3838   \n",
       "6      5TA AVENIDA  RESTAURANTE                     SARMIENTO 814   \n",
       "7    5TA AVENIDA I  RESTAURANTE                     SARMIENTO 381   \n",
       "8         5TA ZONA                                   MURILLO 1049   \n",
       "9              650  RESTAURANTE                    SAN MARTIN 650   \n",
       "\n",
       "          barrio comuna  \n",
       "0  Puerto Madero      1  \n",
       "1  San Cristobal      3  \n",
       "2       Belgrano     13  \n",
       "3   Villa Lugano      8  \n",
       "4        Palermo     14  \n",
       "5        Palermo     14  \n",
       "6    San Nicolas      1  \n",
       "7    San Nicolas      1  \n",
       "8   Villa Crespo     15  \n",
       "9    San Nicolas      1  "
      ]
     },
     "execution_count": 8,
     "metadata": {},
     "output_type": "execute_result"
    }
   ],
   "source": [
    "import pandas as pd\n",
    "\n",
    "df = pd.DataFrame(diccionario)\n",
    "df.head(10)"
   ]
  },
  {
   "attachments": {},
   "cell_type": "markdown",
   "metadata": {},
   "source": [
    "Obtengo mi contraseña de MySQL que por seguridad la tengo en un archivo \".txt\""
   ]
  },
  {
   "attachments": {},
   "cell_type": "markdown",
   "metadata": {},
   "source": [
    "I get my MySQL password from a text file for my security"
   ]
  },
  {
   "cell_type": "code",
   "execution_count": null,
   "metadata": {},
   "outputs": [],
   "source": [
    "with open(\"../../password_db.txt\") as contra:\n",
    "    password = contra.read()"
   ]
  },
  {
   "attachments": {},
   "cell_type": "markdown",
   "metadata": {},
   "source": [
    "Here, I create the conection with de MySQL database engine and after that I create an *cursor* object to be able to interact with the database."
   ]
  },
  {
   "cell_type": "code",
   "execution_count": 20,
   "metadata": {},
   "outputs": [
    {
     "data": {
      "text/plain": [
       "0"
      ]
     },
     "execution_count": 20,
     "metadata": {},
     "output_type": "execute_result"
    }
   ],
   "source": [
    "conection = pymysql.connect(\n",
    "    host='localhost',\n",
    "    user='root',\n",
    "    password=password\n",
    ")\n",
    "\n",
    "cursor = conection.cursor()\n",
    "\n",
    "cursor.execute(\"create database if not exists oferta_gastronomica;\")\n",
    "cursor.execute(\"use oferta_gastronomica;\")"
   ]
  },
  {
   "cell_type": "code",
   "execution_count": null,
   "metadata": {},
   "outputs": [
    {
     "data": {
      "text/plain": [
       "Index(['nombre', 'categoria', 'direccion_completa', 'barrio', 'comuna'], dtype='object')"
      ]
     },
     "execution_count": 11,
     "metadata": {},
     "output_type": "execute_result"
    }
   ],
   "source": [
    "df.columns"
   ]
  },
  {
   "cell_type": "code",
   "execution_count": null,
   "metadata": {},
   "outputs": [],
   "source": [
    "### Creating the table\n",
    "query_db = \"\"\"create table if not exists locales(\n",
    "IdLocal int not null auto_increment,\n",
    "Nombre varchar(80),\n",
    "Categoria varchar(80),\n",
    "Direccion varchar(80),\n",
    "Barrio varchar(80),\n",
    "Comuna varchar(80),\n",
    "primary key (IdLocal)\n",
    ")\"\"\""
   ]
  },
  {
   "cell_type": "code",
   "execution_count": null,
   "metadata": {},
   "outputs": [
    {
     "data": {
      "text/plain": [
       "0"
      ]
     },
     "execution_count": 13,
     "metadata": {},
     "output_type": "execute_result"
    }
   ],
   "source": [
    "# Executing the query above\n",
    "cursor.execute(query_db)"
   ]
  },
  {
   "cell_type": "code",
   "execution_count": 25,
   "metadata": {},
   "outputs": [
    {
     "data": {
      "text/plain": [
       "0"
      ]
     },
     "execution_count": 25,
     "metadata": {},
     "output_type": "execute_result"
    }
   ],
   "source": [
    "cursor.execute(\"truncate table locales;\")"
   ]
  },
  {
   "attachments": {},
   "cell_type": "markdown",
   "metadata": {},
   "source": [
    "Inserting the data from the csv"
   ]
  },
  {
   "cell_type": "code",
   "execution_count": 26,
   "metadata": {},
   "outputs": [
    {
     "data": {
      "text/plain": [
       "2823"
      ]
     },
     "execution_count": 26,
     "metadata": {},
     "output_type": "execute_result"
    }
   ],
   "source": [
    "query = \"\"\"\n",
    "insert into locales (nombre,categoria,direccion,barrio,comuna)\n",
    "values (%s,%s,%s,%s,%s)\n",
    "\"\"\"\n",
    "cursor.executemany(query,locales[1:])"
   ]
  },
  {
   "attachments": {},
   "cell_type": "markdown",
   "metadata": {},
   "source": [
    "Applying the querys"
   ]
  },
  {
   "cell_type": "code",
   "execution_count": 27,
   "metadata": {},
   "outputs": [],
   "source": [
    "conection.commit()"
   ]
  },
  {
   "attachments": {},
   "cell_type": "markdown",
   "metadata": {},
   "source": [
    "a. Which neighbordhood has the most Pubs amounts?"
   ]
  },
  {
   "cell_type": "code",
   "execution_count": 69,
   "metadata": {},
   "outputs": [],
   "source": [
    "query = \"\"\"\n",
    "SELECT  \n",
    "barrio,\n",
    "count(*) as Total\n",
    "FROM locales WHERE categoria = 'PUB'\n",
    "group by barrio \n",
    "order by Total desc\n",
    "limit 1;\n",
    "\"\"\"\n",
    "cursor.execute(query)\n",
    "result = cursor.fetchall()\n",
    "result[0]"
   ]
  },
  {
   "attachments": {},
   "cell_type": "markdown",
   "metadata": {},
   "source": [
    "b. Get the number of stores by category"
   ]
  },
  {
   "cell_type": "code",
   "execution_count": 70,
   "metadata": {},
   "outputs": [
    {
     "data": {
      "text/plain": [
       "(('RESTAURANTE', 1990),\n",
       " ('CAFE', 334),\n",
       " ('BAR', 247),\n",
       " ('', 116),\n",
       " ('CONFITERIA', 55),\n",
       " ('PUB', 53),\n",
       " ('VINERIA', 22),\n",
       " ('SANDWICHERIA', 4),\n",
       " ('DELIVERY & TAKE AWAY', 2))"
      ]
     },
     "execution_count": 70,
     "metadata": {},
     "output_type": "execute_result"
    }
   ],
   "source": [
    "query = \"\"\"\n",
    "select\n",
    "categoria,\n",
    "count(*) as Cantidad_Total\n",
    "from locales\n",
    "group by categoria\n",
    "order by Cantidad_Total desc;\n",
    "\"\"\"\n",
    "cursor.execute(query)\n",
    "cursor.fetchall()"
   ]
  },
  {
   "attachments": {},
   "cell_type": "markdown",
   "metadata": {},
   "source": [
    "c. Get the number of restaurants by commune"
   ]
  },
  {
   "cell_type": "code",
   "execution_count": 75,
   "metadata": {},
   "outputs": [
    {
     "data": {
      "text/plain": [
       "(('Comuna 1', 870),\n",
       " ('Comuna 14', 467),\n",
       " ('Comuna 2', 327),\n",
       " ('Comuna 3', 224),\n",
       " ('Comuna 4', 142),\n",
       " ('Comuna 13', 140),\n",
       " ('Comuna 6', 125),\n",
       " ('Comuna 7', 100),\n",
       " ('Comuna 15', 87),\n",
       " ('Comuna 5', 77),\n",
       " ('Comuna 12', 70),\n",
       " ('Comuna 9', 68),\n",
       " ('Comuna 10', 58),\n",
       " ('Comuna 11', 50),\n",
       " ('Comuna 8', 18))"
      ]
     },
     "execution_count": 75,
     "metadata": {},
     "output_type": "execute_result"
    }
   ],
   "source": [
    "query = \"\"\"\n",
    "select\n",
    "concat(\"Comuna \",comuna),\n",
    "count(*) as Total_Restaurantes\n",
    "from locales\n",
    "group by comuna\n",
    "order by Total_Restaurantes desc;\n",
    "\"\"\"\n",
    "cursor.execute(query)\n",
    "cursor.fetchall()"
   ]
  }
 ],
 "metadata": {
  "kernelspec": {
   "display_name": "Python 3",
   "language": "python",
   "name": "python3"
  },
  "language_info": {
   "codemirror_mode": {
    "name": "ipython",
    "version": 3
   },
   "file_extension": ".py",
   "mimetype": "text/x-python",
   "name": "python",
   "nbconvert_exporter": "python",
   "pygments_lexer": "ipython3",
   "version": "3.10.11"
  },
  "orig_nbformat": 4
 },
 "nbformat": 4,
 "nbformat_minor": 2
}
