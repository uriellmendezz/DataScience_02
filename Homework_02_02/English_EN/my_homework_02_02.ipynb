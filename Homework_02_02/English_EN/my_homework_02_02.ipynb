{
 "cells": [
  {
   "attachments": {},
   "cell_type": "markdown",
   "id": "e7bac9ff",
   "metadata": {},
   "source": [
    "# Homework Class 2\n",
    "\n",
    "Using Python calculate the following probabilities. For each one try to determine which method you applied."
   ]
  },
  {
   "attachments": {},
   "cell_type": "markdown",
   "id": "5488e856",
   "metadata": {},
   "source": [
    "---"
   ]
  },
  {
   "attachments": {},
   "cell_type": "markdown",
   "id": "81434da8",
   "metadata": {},
   "source": [
    "1. Flip a coin 10 times, how many possible outcomes are part of the sample space?"
   ]
  },
  {
   "cell_type": "code",
   "execution_count": 1,
   "id": "b0606420",
   "metadata": {},
   "outputs": [
    {
     "name": "stdout",
     "output_type": "stream",
     "text": [
      "The sample space is made up of 1024 possible outcomes of tossing a coin 10 times\n"
     ]
    }
   ],
   "source": [
    "# Exercise 1\n",
    "\n",
    "reps = 10\n",
    "\n",
    "possible_results = [\"Head\",\"Tails\"] # 2 possible results to throw a coin\n",
    "\n",
    "sample_space = len(possible_results) ** reps\n",
    "print(f\"The sample space is made up of {sample_space} possible outcomes of tossing a coin 10 times\")"
   ]
  },
  {
   "attachments": {},
   "cell_type": "markdown",
   "id": "5b533bd2",
   "metadata": {},
   "source": [
    "2. At an airport there are 10 passengers waiting in the pre-boarding area, the police must control 3 of them. How many possible combinations can be obtained?"
   ]
  },
  {
   "cell_type": "code",
   "execution_count": 2,
   "id": "cfc02045",
   "metadata": {},
   "outputs": [
    {
     "name": "stdout",
     "output_type": "stream",
     "text": [
      "There are a total of 120 possible combinations for the choices made by the policemen\n"
     ]
    }
   ],
   "source": [
    "# Exercise 2\n",
    "passengers = 10 #n\n",
    "chosen_ones = 3 #k\n",
    "\n",
    "def Factorial(number):\n",
    "     result = 1\n",
    "     for i in range(1,number + 1):\n",
    "         result *= i\n",
    "     return result\n",
    "\n",
    "# Formula of the Binomial Coefficient: C(n,k) = n! /(k!*(n-k)!)\n",
    "def Binomial_Coefficient(n,k):\n",
    "     result = Factorial(n) / (Factorial(k) * Factorial(n - k))\n",
    "     return result\n",
    "\n",
    "result = Binomial_Coefficient(10,3)\n",
    "result = int(result)\n",
    "print(f\"There are a total of {result} possible combinations for the choices made by the policemen\")"
   ]
  },
  {
   "attachments": {},
   "cell_type": "markdown",
   "id": "9df61891",
   "metadata": {},
   "source": [
    "3. The National Road Safety Agency conducted an investigation to find out if drivers are wearing their seat belts. The sample data was as follows:<br> Drivers who use seat belts.\n",
    "<br><br> ![Ejercicio](img/ejercicio3.png)"
   ]
  },
  {
   "attachments": {},
   "cell_type": "markdown",
   "id": "9d9dde17",
   "metadata": {},
   "source": [
    "a) What method do you think is used to assign probabilities?"
   ]
  },
  {
   "attachments": {},
   "cell_type": "markdown",
   "id": "c8dfece6",
   "metadata": {},
   "source": [
    "Based on the data provided, the odds of drivers wearing seat belts was based on the count-by-count method, which is based on the number of times that event occurs. In this case, an analysis of \"n\" cars was made and the number of times the drivers did have the seat belt and the times the drivers did not have it was counted. The probability was calculated by dividing the number of times the drivers did have the belt by the total number of drivers analyzed (\"n\")."
   ]
  },
  {
   "cell_type": "code",
   "execution_count": 4,
   "id": "5d734119",
   "metadata": {},
   "outputs": [
    {
     "name": "stderr",
     "output_type": "stream",
     "text": [
      "C:\\Users\\uriel\\AppData\\Local\\Temp\\ipykernel_8148\\429726015.py:23: FutureWarning: The frame.append method is deprecated and will be removed from pandas in a future version. Use pandas.concat instead.\n",
      "  df.append(totales,ignore_index=True)\n"
     ]
    },
    {
     "data": {
      "text/html": [
       "<div>\n",
       "<style scoped>\n",
       "    .dataframe tbody tr th:only-of-type {\n",
       "        vertical-align: middle;\n",
       "    }\n",
       "\n",
       "    .dataframe tbody tr th {\n",
       "        vertical-align: top;\n",
       "    }\n",
       "\n",
       "    .dataframe thead th {\n",
       "        text-align: right;\n",
       "    }\n",
       "</style>\n",
       "<table border=\"1\" class=\"dataframe\">\n",
       "  <thead>\n",
       "    <tr style=\"text-align: right;\">\n",
       "      <th></th>\n",
       "      <th>Region</th>\n",
       "      <th>Si</th>\n",
       "      <th>No</th>\n",
       "      <th>Total</th>\n",
       "      <th>% Si</th>\n",
       "      <th>% No</th>\n",
       "    </tr>\n",
       "  </thead>\n",
       "  <tbody>\n",
       "    <tr>\n",
       "      <th>0</th>\n",
       "      <td>Norte</td>\n",
       "      <td>148</td>\n",
       "      <td>52</td>\n",
       "      <td>200</td>\n",
       "      <td>0.74</td>\n",
       "      <td>0.26</td>\n",
       "    </tr>\n",
       "    <tr>\n",
       "      <th>1</th>\n",
       "      <td>Noreste</td>\n",
       "      <td>162</td>\n",
       "      <td>54</td>\n",
       "      <td>216</td>\n",
       "      <td>0.75</td>\n",
       "      <td>0.25</td>\n",
       "    </tr>\n",
       "    <tr>\n",
       "      <th>2</th>\n",
       "      <td>Sur</td>\n",
       "      <td>296</td>\n",
       "      <td>74</td>\n",
       "      <td>370</td>\n",
       "      <td>0.8</td>\n",
       "      <td>0.2</td>\n",
       "    </tr>\n",
       "    <tr>\n",
       "      <th>3</th>\n",
       "      <td>Centro</td>\n",
       "      <td>252</td>\n",
       "      <td>48</td>\n",
       "      <td>300</td>\n",
       "      <td>0.84</td>\n",
       "      <td>0.16</td>\n",
       "    </tr>\n",
       "    <tr>\n",
       "      <th>4</th>\n",
       "      <td>Total</td>\n",
       "      <td>858</td>\n",
       "      <td>228</td>\n",
       "      <td>1086</td>\n",
       "      <td>-</td>\n",
       "      <td>-</td>\n",
       "    </tr>\n",
       "  </tbody>\n",
       "</table>\n",
       "</div>"
      ],
      "text/plain": [
       "    Region   Si   No  Total  % Si  % No\n",
       "0    Norte  148   52    200  0.74  0.26\n",
       "1  Noreste  162   54    216  0.75  0.25\n",
       "2      Sur  296   74    370   0.8   0.2\n",
       "3   Centro  252   48    300  0.84  0.16\n",
       "4    Total  858  228   1086     -     -"
      ]
     },
     "execution_count": 4,
     "metadata": {},
     "output_type": "execute_result"
    }
   ],
   "source": [
    "import pandas as pd\n",
    "\n",
    "cuadro = {\n",
    "    \"Region\":[\"Norte\",\"Noreste\",\"Sur\",\"Centro\"],\n",
    "    \"Si\":[148,162,296,252],\n",
    "    \"No\":[52,54,74,48]\n",
    "}\n",
    "\n",
    "df = pd.DataFrame(cuadro)\n",
    "df[\"Total\"] = df[\"Si\"] + df[\"No\"]\n",
    "df[\"% Si\"] = df[\"Si\"] / df.Total # Probabilidad que SI use el cinturon\n",
    "df[\"% No\"] = df[\"No\"] / df.Total # Probabilidad que NO use el cinturon\n",
    "\n",
    "totales = {\n",
    "    \"Region\":\"Total\",\n",
    "    \"Si\":df[\"Si\"].sum(),\n",
    "    \"No\":df[\"No\"].sum(),\n",
    "    \"Total\":df[\"Total\"].sum(),\n",
    "    \"% Si\": \"-\",\n",
    "    \"% No\": \"-\"\n",
    "}\n",
    "\n",
    "df.append(totales,ignore_index=True)"
   ]
  },
  {
   "attachments": {},
   "cell_type": "markdown",
   "id": "e554068c",
   "metadata": {},
   "source": [
    "b) Build a similar table, but with the assignment of probabilities."
   ]
  },
  {
   "cell_type": "code",
   "execution_count": 6,
   "id": "93853e4b",
   "metadata": {},
   "outputs": [
    {
     "data": {
      "text/html": [
       "<div>\n",
       "<style scoped>\n",
       "    .dataframe tbody tr th:only-of-type {\n",
       "        vertical-align: middle;\n",
       "    }\n",
       "\n",
       "    .dataframe tbody tr th {\n",
       "        vertical-align: top;\n",
       "    }\n",
       "\n",
       "    .dataframe thead th {\n",
       "        text-align: right;\n",
       "    }\n",
       "</style>\n",
       "<table border=\"1\" class=\"dataframe\">\n",
       "  <thead>\n",
       "    <tr style=\"text-align: right;\">\n",
       "      <th></th>\n",
       "      <th>Region</th>\n",
       "      <th>Probability of YES</th>\n",
       "      <th>Probability of NOT</th>\n",
       "      <th>Total</th>\n",
       "    </tr>\n",
       "  </thead>\n",
       "  <tbody>\n",
       "    <tr>\n",
       "      <th>0</th>\n",
       "      <td>North</td>\n",
       "      <td>0.74</td>\n",
       "      <td>0.26</td>\n",
       "      <td>1.0</td>\n",
       "    </tr>\n",
       "    <tr>\n",
       "      <th>1</th>\n",
       "      <td>Northeast</td>\n",
       "      <td>0.75</td>\n",
       "      <td>0.25</td>\n",
       "      <td>1.0</td>\n",
       "    </tr>\n",
       "    <tr>\n",
       "      <th>2</th>\n",
       "      <td>South</td>\n",
       "      <td>0.80</td>\n",
       "      <td>0.20</td>\n",
       "      <td>1.0</td>\n",
       "    </tr>\n",
       "    <tr>\n",
       "      <th>3</th>\n",
       "      <td>Center</td>\n",
       "      <td>0.84</td>\n",
       "      <td>0.16</td>\n",
       "      <td>1.0</td>\n",
       "    </tr>\n",
       "  </tbody>\n",
       "</table>\n",
       "</div>"
      ],
      "text/plain": [
       "      Region  Probability of YES  Probability of NOT  Total\n",
       "0      North                0.74                0.26    1.0\n",
       "1  Northeast                0.75                0.25    1.0\n",
       "2      South                0.80                0.20    1.0\n",
       "3     Center                0.84                0.16    1.0"
      ]
     },
     "execution_count": 6,
     "metadata": {},
     "output_type": "execute_result"
    }
   ],
   "source": [
    "frame = {\n",
    "     \"Region\":[\"North\",\"Northeast\",\"South\",\"Center\"],\n",
    "     \"Probability of YES\":[0,0,0,0],\n",
    "     \"Probability of NOT\":[0,0,0,0]\n",
    "}\n",
    "\n",
    "df2 = pd.DataFrame(frame)\n",
    "df2[\"Probability of YES\"] = df[\"Si\"] / df[\"Total\"]\n",
    "df2[\"Probability of NOT\"] = df[\"No\"] / df[\"Total\"]\n",
    "df2[\"Total\"] = df2[\"Probability of YES\"] + df2[\"Probability of NOT\"]\n",
    "df2"
   ]
  },
  {
   "attachments": {},
   "cell_type": "markdown",
   "id": "2032c364",
   "metadata": {},
   "source": [
    "c) A year earlier, the probability in Argentina that a driver was wearing a seat belt was 0.75. The director of ANSV, the probability was expected to reach 0.78. Will you be satisfied with the results of the study? (Use attached table)\n",
    "<br><br> ![Ejercicio](img/ejercicio3.png)"
   ]
  },
  {
   "cell_type": "code",
   "execution_count": 8,
   "id": "8a4b9a09",
   "metadata": {},
   "outputs": [
    {
     "name": "stdout",
     "output_type": "stream",
     "text": [
      "The probability that a driver in Argentina wears a seatbelt is 0.79, more than the probability expected by the ANSV director\n"
     ]
    }
   ],
   "source": [
    "total_yes = 858\n",
    "total_no = 228\n",
    "total = total_yes + total_no\n",
    "probability = total_yes / total\n",
    "print(f\"The probability that a driver in Argentina wears a seatbelt is {round(probability,2)}, more than the probability expected by the ANSV director\")"
   ]
  },
  {
   "attachments": {},
   "cell_type": "markdown",
   "id": "0eb6f6f7",
   "metadata": {},
   "source": [
    "d) What is the probability that the belt is used in the different regions of the country? In which region is the belt used the most? (Use the same table as the previous exercise)."
   ]
  },
  {
   "cell_type": "code",
   "execution_count": 9,
   "id": "6a8ff7d0",
   "metadata": {},
   "outputs": [
    {
     "data": {
      "text/html": [
       "<div>\n",
       "<style scoped>\n",
       "    .dataframe tbody tr th:only-of-type {\n",
       "        vertical-align: middle;\n",
       "    }\n",
       "\n",
       "    .dataframe tbody tr th {\n",
       "        vertical-align: top;\n",
       "    }\n",
       "\n",
       "    .dataframe thead th {\n",
       "        text-align: right;\n",
       "    }\n",
       "</style>\n",
       "<table border=\"1\" class=\"dataframe\">\n",
       "  <thead>\n",
       "    <tr style=\"text-align: right;\">\n",
       "      <th></th>\n",
       "      <th>Region</th>\n",
       "      <th>Probability of YES</th>\n",
       "      <th>Probability of NOT</th>\n",
       "      <th>Total</th>\n",
       "    </tr>\n",
       "  </thead>\n",
       "  <tbody>\n",
       "    <tr>\n",
       "      <th>0</th>\n",
       "      <td>North</td>\n",
       "      <td>0.74</td>\n",
       "      <td>0.26</td>\n",
       "      <td>1.0</td>\n",
       "    </tr>\n",
       "    <tr>\n",
       "      <th>1</th>\n",
       "      <td>Northeast</td>\n",
       "      <td>0.75</td>\n",
       "      <td>0.25</td>\n",
       "      <td>1.0</td>\n",
       "    </tr>\n",
       "    <tr>\n",
       "      <th>2</th>\n",
       "      <td>South</td>\n",
       "      <td>0.80</td>\n",
       "      <td>0.20</td>\n",
       "      <td>1.0</td>\n",
       "    </tr>\n",
       "    <tr>\n",
       "      <th>3</th>\n",
       "      <td>Center</td>\n",
       "      <td>0.84</td>\n",
       "      <td>0.16</td>\n",
       "      <td>1.0</td>\n",
       "    </tr>\n",
       "  </tbody>\n",
       "</table>\n",
       "</div>"
      ],
      "text/plain": [
       "      Region  Probability of YES  Probability of NOT  Total\n",
       "0      North                0.74                0.26    1.0\n",
       "1  Northeast                0.75                0.25    1.0\n",
       "2      South                0.80                0.20    1.0\n",
       "3     Center                0.84                0.16    1.0"
      ]
     },
     "execution_count": 9,
     "metadata": {},
     "output_type": "execute_result"
    }
   ],
   "source": [
    "frame = {\n",
    "     \"Region\":[\"North\",\"Northeast\",\"South\",\"Center\"],\n",
    "     \"Probability of YES\":[0,0,0,0],\n",
    "     \"Probability of NOT\":[0,0,0,0]\n",
    "}\n",
    "\n",
    "df2 = pd.DataFrame(frame)\n",
    "df2[\"Probability of YES\"] = df[\"Si\"] / df[\"Total\"]\n",
    "df2[\"Probability of NOT\"] = df[\"No\"] / df[\"Total\"]\n",
    "df2[\"Total\"] = df2[\"Probability of YES\"] + df2[\"Probability of NOT\"]\n",
    "df2"
   ]
  },
  {
   "cell_type": "code",
   "execution_count": 14,
   "id": "ffbadda9",
   "metadata": {},
   "outputs": [
    {
     "name": "stdout",
     "output_type": "stream",
     "text": [
      "The region with the highest rate of probability of wearing a seatbelt is 'Center'\n"
     ]
    }
   ],
   "source": [
    "maximum = df2[\"Probability of YES\"].idxmax()\n",
    "region = df2.loc[maximum][0]\n",
    "\n",
    "print(f\"The region with the highest rate of probability of wearing a seatbelt is '{region}'\")"
   ]
  },
  {
   "attachments": {},
   "cell_type": "markdown",
   "id": "295fb6d9",
   "metadata": {},
   "source": [
    "4. Create a function that allows calculating the probability of the following events in a deck of 52 cards.\n",
    "     - Get a red card.\n",
    "     - Get a black card.\n",
    "     - Get a pike.\n",
    "     - Get a clover.\n",
    "     - Get a heart.\n",
    "     - Get a diamond."
   ]
  },
  {
   "cell_type": "code",
   "execution_count": 16,
   "id": "7c56487f",
   "metadata": {},
   "outputs": [],
   "source": [
    "def PokerProbability(color=0,shape=0):\n",
    "    total = 52\n",
    "    red_cards = 26\n",
    "    black_cards = 26\n",
    "    diamonds_cards = 13\n",
    "    hearts_cards = 13\n",
    "    spades_cards = 13\n",
    "    clovers_cards = 13\n",
    "\n",
    "    if color in (\"red\",\"black\"):\n",
    "        return str(round((red_cards / total) * 100)) + \" %\"\n",
    "    elif color == 0:\n",
    "        pass\n",
    "    else:\n",
    "        print(\"This are the colors: red - black\")\n",
    "    \n",
    "    if shape in (\"diamond\",\"heart\",\"spade\",\"clover\"):\n",
    "        return str(round((diamonds_cards / total) * 100)) + \" %\"\n",
    "    elif shape == 0:\n",
    "        pass\n",
    "    else:\n",
    "        print(\"This are the suits: diamond - heart - spade - clover\")"
   ]
  },
  {
   "cell_type": "code",
   "execution_count": 17,
   "id": "9a3613b8",
   "metadata": {},
   "outputs": [
    {
     "name": "stdout",
     "output_type": "stream",
     "text": [
      "Get a red card:  50 %\n",
      "Get a black card:  50 %\n",
      "Get a spade:  25 %\n",
      "Get a clover:  25 %\n",
      "Get a heart:  25 %\n",
      "Get a diamond:  25 %\n"
     ]
    }
   ],
   "source": [
    "print(f\"Get a red card: \",PokerProbability(\"red\",0))\n",
    "print(f\"Get a black card: \",PokerProbability(\"black\",0))\n",
    "print(f\"Get a spade: \",PokerProbability(0,\"spade\"))\n",
    "print(f\"Get a clover: \",PokerProbability(0,\"clover\"))\n",
    "print(f\"Get a heart: \",PokerProbability(0,\"heart\"))\n",
    "print(f\"Get a diamond: \",PokerProbability(0,\"diamond\"))"
   ]
  },
  {
   "attachments": {},
   "cell_type": "markdown",
   "id": "1e3de238",
   "metadata": {},
   "source": [
    "5. The probability that a 7 or 8 will be rolled when selecting a card from a deck of the 52 cards contained in the deck."
   ]
  },
  {
   "cell_type": "code",
   "execution_count": 18,
   "id": "e0825530",
   "metadata": {},
   "outputs": [
    {
     "name": "stdout",
     "output_type": "stream",
     "text": [
      "The probability of drawing a 7 or an 8 from a deck of 52 cards is 8 %\n"
     ]
    }
   ],
   "source": [
    "# In a deck of 52 cards, there are four 7's and four\n",
    "print(\"The probability of drawing a 7 or an 8 from a deck of 52 cards is\",round(4/52 * 100.1),\"%\")"
   ]
  },
  {
   "attachments": {},
   "cell_type": "markdown",
   "id": "6b34f931",
   "metadata": {},
   "source": [
    "6. The probability that your country will win the soccer world cup."
   ]
  },
  {
   "attachments": {},
   "cell_type": "markdown",
   "id": "6d847b46",
   "metadata": {},
   "source": [
    "Calculating this probability requires many factors. Although, in a traditional world cup 32 teams play, you might think that each team has a probability of winning the world cup of 1/32, which mathematically makes sense, but we would be forgetting that each team has different players in its squad, that the teams are in different positions in the FIFA ranking and that it also depends on the rivals that they have to play in the World Cup. By this I mean that they are not the same probabilities of winning the World Cup for the Qatari team as for the Brazilian team, for example."
   ]
  },
  {
   "cell_type": "code",
   "execution_count": 119,
   "id": "f68cb0e3",
   "metadata": {},
   "outputs": [
    {
     "data": {
      "text/plain": [
       "'3.1 %'"
      ]
     },
     "execution_count": 119,
     "metadata": {},
     "output_type": "execute_result"
    }
   ],
   "source": [
    "selecciones = 32\n",
    "probabilidad_x_seleccion = str(round(1/selecciones,3) * 100) + \" %\"\n",
    "probabilidad_x_seleccion"
   ]
  },
  {
   "attachments": {},
   "cell_type": "markdown",
   "id": "06ce30d3",
   "metadata": {},
   "source": [
    "7. An experiment that has three outcomes is repeated 50 times and E1 is found to appear 20 times, E2 13 times, and E3 17 times. Assign probabilities to the outcomes."
   ]
  },
  {
   "cell_type": "code",
   "execution_count": 19,
   "id": "edda1ea4",
   "metadata": {},
   "outputs": [
    {
     "name": "stdout",
     "output_type": "stream",
     "text": [
      "E1 probability: 40.0%\n",
      "E2 probability: 26.0%\n",
      "E3 probability: 34.0%\n"
     ]
    }
   ],
   "source": [
    "reps = 50\n",
    "e1 = 20\n",
    "e2 = 13\n",
    "e3 = 17\n",
    "\n",
    "print(\"E1 probability:\",str((e1 / reps) * 100) + \"%\")\n",
    "print(\"E2 probability:\",str((e2 / reps) * 100) + \"%\")\n",
    "print(\"E3 probability:\",str((e3 / reps) * 100) + \"%\")"
   ]
  },
  {
   "attachments": {},
   "cell_type": "markdown",
   "id": "e19bb80e",
   "metadata": {},
   "source": [
    "---"
   ]
  },
  {
   "attachments": {},
   "cell_type": "markdown",
   "id": "f7542f14",
   "metadata": {},
   "source": [
    "## Complementary challenges\n",
    "\n",
    "### Investigate and try to solve the following exercises\n",
    "\n",
    "If the probability that a customer pays with cash (E) is 6/15, with a credit card (TC) it is 7/15 and with a debit card (TD) it is 2/15. Find the probability that two successive customers who pay their bills will:"
   ]
  },
  {
   "attachments": {},
   "cell_type": "markdown",
   "id": "3fd9081f",
   "metadata": {},
   "source": [
    "a) the first in cash and the second with a credit card."
   ]
  },
  {
   "attachments": {},
   "cell_type": "markdown",
   "id": "609bb7d5",
   "metadata": {},
   "source": [
    "As this example deals with a probability WITHOUT REPLACEMENT, the probability of the second customer who pays with the credit card will be 7/14 and not 7/15 because a customer is eliminated since one would have already paid in cash, that is, not it is added back to the list"
   ]
  },
  {
   "cell_type": "code",
   "execution_count": 129,
   "id": "1b19a494",
   "metadata": {},
   "outputs": [
    {
     "data": {
      "text/plain": [
       "0.5"
      ]
     },
     "execution_count": 129,
     "metadata": {},
     "output_type": "execute_result"
    }
   ],
   "source": [
    "7/14"
   ]
  },
  {
   "cell_type": "code",
   "execution_count": 21,
   "id": "8b753526",
   "metadata": {},
   "outputs": [
    {
     "name": "stdout",
     "output_type": "stream",
     "text": [
      "The probability that the first pays in cash and the second with a credit card is 20.0%\n"
     ]
    }
   ],
   "source": [
    "e = 6/15\n",
    "tc = 7/14\n",
    "td = 2/15\n",
    "\n",
    "probability = str((e * tc) * 100) + \"%\"\n",
    "\n",
    "print(\"The probability that the first pays in cash and the second with a credit card is\", probability)"
   ]
  },
  {
   "attachments": {},
   "cell_type": "markdown",
   "id": "fdf7b7ec",
   "metadata": {},
   "source": [
    "b) The two customers in cash"
   ]
  },
  {
   "cell_type": "code",
   "execution_count": 22,
   "id": "74cc042d",
   "metadata": {},
   "outputs": [
    {
     "name": "stdout",
     "output_type": "stream",
     "text": [
      "The probability that two customers pay cash in a row is 17%\n"
     ]
    }
   ],
   "source": [
    "probability = str(round((6/15 * 6/14) * 100.2)) + \"%\"\n",
    "\n",
    "print(\"The probability that two customers pay cash in a row is\", probability)"
   ]
  },
  {
   "attachments": {},
   "cell_type": "markdown",
   "id": "68e756b4",
   "metadata": {},
   "source": [
    "The probability that a Henry fails M1 is 0.8, that he passes M2 is 0.5, and that he fails M3 is 0.4.\n",
    "(Events do not interfere with each other)\n",
    "\n",
    "![Tabla](img/probhenry.png)\n",
    "\n",
    "Determine the probability that:\n",
    "\n",
    "a) Pass a module.\n",
    "\n",
    "b) Fail all three subjects."
   ]
  },
  {
   "cell_type": "code",
   "execution_count": 25,
   "id": "51a5b0e4",
   "metadata": {},
   "outputs": [
    {
     "name": "stdout",
     "output_type": "stream",
     "text": [
      "The probability of approving just one module is 44 %\n"
     ]
    }
   ],
   "source": [
    "# to\n",
    "m1_approve = 0.2\n",
    "m1_fail = 0.8\n",
    "\n",
    "m2_approve = 0.5\n",
    "m2_fail = 0.5\n",
    "\n",
    "m3_approve = 0.6\n",
    "m3_fail = 0.4\n",
    "\n",
    "probability_approve_1 = (m1_approve * m2_fail * m3_fail) + (m1_fail * m2_approve * m3_fail) + (m1_fail * m2_fail * m3_approve)\n",
    "probability_approve_1 = round(probability_approve_1 * 100.2)\n",
    "print(\"The probability of approving just one module is\",probability_approve_1,\"%\")"
   ]
  },
  {
   "cell_type": "code",
   "execution_count": 26,
   "id": "b0292cb9",
   "metadata": {},
   "outputs": [
    {
     "name": "stdout",
     "output_type": "stream",
     "text": [
      "The probability of failing all modules is 16.0 %\n"
     ]
    }
   ],
   "source": [
    "#b\n",
    "fail_probability = round((m1_fail * m2_fail * m3_fail) * 100,2)\n",
    "print(\"The probability of failing all modules is\", fail_probability,\"%\")"
   ]
  }
 ],
 "metadata": {
  "kernelspec": {
   "display_name": "Python 3 (ipykernel)",
   "language": "python",
   "name": "python3"
  },
  "language_info": {
   "codemirror_mode": {
    "name": "ipython",
    "version": 3
   },
   "file_extension": ".py",
   "mimetype": "text/x-python",
   "name": "python",
   "nbconvert_exporter": "python",
   "pygments_lexer": "ipython3",
   "version": "3.10.11"
  }
 },
 "nbformat": 4,
 "nbformat_minor": 5
}
