{
 "cells": [
  {
   "attachments": {},
   "cell_type": "markdown",
   "id": "e7bac9ff",
   "metadata": {},
   "source": [
    "# Homework Clase 2\n",
    "\n",
    "Utilizando Python cálcular las siguientes probabilidades. Para cada uno intenta determinar que método aplicaste."
   ]
  },
  {
   "attachments": {},
   "cell_type": "markdown",
   "id": "5488e856",
   "metadata": {},
   "source": [
    "---"
   ]
  },
  {
   "attachments": {},
   "cell_type": "markdown",
   "id": "81434da8",
   "metadata": {},
   "source": [
    "1. Lanza una moneda al aire 10 veces, ¿cuantos resultados posibles forman parte del espacio muestral?."
   ]
  },
  {
   "cell_type": "code",
   "execution_count": 1,
   "id": "b0606420",
   "metadata": {},
   "outputs": [
    {
     "name": "stdout",
     "output_type": "stream",
     "text": [
      "El espacio muestral esta compuesto por 1024 posibles resultados de lanzar una moneda al aire 10 veces\n"
     ]
    }
   ],
   "source": [
    "# Ejercicio 1\n",
    "\n",
    "reps = 10\n",
    "\n",
    "possibles_results = [\"Head\",\"Tails\"] # 2 possible results to throwing a coin\n",
    "\n",
    "sample_space = len(possibles_results) ** reps\n",
    "print(f\"El espacio muestral esta compuesto por {sample_space} posibles resultados de lanzar una moneda al aire 10 veces\")\n"
   ]
  },
  {
   "attachments": {},
   "cell_type": "markdown",
   "id": "5b533bd2",
   "metadata": {},
   "source": [
    "2. En un aeropuerto se tiene a 10 pasajeros esperando en la sala de preembarque, la polícia debe controlar a 3 de ellos. ¿Cuantas combinaciones posibles se pueden obtener?."
   ]
  },
  {
   "cell_type": "code",
   "execution_count": 2,
   "id": "cfc02045",
   "metadata": {},
   "outputs": [
    {
     "name": "stdout",
     "output_type": "stream",
     "text": [
      "Hay un total de 120 posibles combinaciones para las elecciones que hagan los policias\n"
     ]
    }
   ],
   "source": [
    "# Ejercicio 2\n",
    "passengers = 10 # n\n",
    "chosen_ones = 3 # k\n",
    "\n",
    "def Factorial(number):\n",
    "    result = 1\n",
    "    for i in range(1,number + 1):\n",
    "        result *= i\n",
    "    return result\n",
    "\n",
    "# Formula del Coeficiente Binomial: C(n,k) = n! / (k! * (n-k)!)\n",
    "def Binomial_Coefficient(n,k):\n",
    "    result = Factorial(n) / (Factorial(k) * Factorial(n - k))\n",
    "    return result\n",
    "\n",
    "result = Binomial_Coefficient(10,3)\n",
    "result = int(result)\n",
    "print(f\"Hay un total de {result} posibles combinaciones para las elecciones que hagan los policias\")"
   ]
  },
  {
   "attachments": {},
   "cell_type": "markdown",
   "id": "9df61891",
   "metadata": {},
   "source": [
    "3. La Agencia Nacional de Seguridad Vial realizó una investigación para saber si los conductores de están usando sus cinturones de seguridad. Los datos muestrales fueron los siguientes:<br> Conductores que emplean el cinturón.\n",
    "<br><br> ![Ejercicio](img/ejercicio3.png)\n",
    "    "
   ]
  },
  {
   "attachments": {},
   "cell_type": "markdown",
   "id": "9d9dde17",
   "metadata": {},
   "source": [
    "a) ¿Qué metodo cree que se utilizo para asignar probabilidades?."
   ]
  },
  {
   "attachments": {},
   "cell_type": "markdown",
   "id": "c8dfece6",
   "metadata": {},
   "source": [
    "Segun los datos proporcionados, las probabilidades de que los conductores usen el cinturon de seguridad se baso en el metodo por conteo, que se basa en el numeor de veces que ocurra ese evento. En este caso, se hizo un analisis de \"n\" autos y se conto la cantidad de veces en los que los conductores si tenian el cinto y las veces en las que los conductores no lo tenian. La probabilidad la calcule dividiendo la cantidad de veces que los conductores si tenian el cinto entre la cantidad total de los conductores analizados (\"n\").\n",
    "\n"
   ]
  },
  {
   "cell_type": "code",
   "execution_count": 8,
   "id": "5d734119",
   "metadata": {},
   "outputs": [
    {
     "name": "stderr",
     "output_type": "stream",
     "text": [
      "C:\\Users\\uriel\\AppData\\Local\\Temp\\ipykernel_18764\\429726015.py:23: FutureWarning: The frame.append method is deprecated and will be removed from pandas in a future version. Use pandas.concat instead.\n",
      "  df.append(totales,ignore_index=True)\n"
     ]
    },
    {
     "data": {
      "text/html": [
       "<div>\n",
       "<style scoped>\n",
       "    .dataframe tbody tr th:only-of-type {\n",
       "        vertical-align: middle;\n",
       "    }\n",
       "\n",
       "    .dataframe tbody tr th {\n",
       "        vertical-align: top;\n",
       "    }\n",
       "\n",
       "    .dataframe thead th {\n",
       "        text-align: right;\n",
       "    }\n",
       "</style>\n",
       "<table border=\"1\" class=\"dataframe\">\n",
       "  <thead>\n",
       "    <tr style=\"text-align: right;\">\n",
       "      <th></th>\n",
       "      <th>Region</th>\n",
       "      <th>Si</th>\n",
       "      <th>No</th>\n",
       "      <th>Total</th>\n",
       "      <th>% Si</th>\n",
       "      <th>% No</th>\n",
       "    </tr>\n",
       "  </thead>\n",
       "  <tbody>\n",
       "    <tr>\n",
       "      <th>0</th>\n",
       "      <td>Norte</td>\n",
       "      <td>148</td>\n",
       "      <td>52</td>\n",
       "      <td>200</td>\n",
       "      <td>0.74</td>\n",
       "      <td>0.26</td>\n",
       "    </tr>\n",
       "    <tr>\n",
       "      <th>1</th>\n",
       "      <td>Noreste</td>\n",
       "      <td>162</td>\n",
       "      <td>54</td>\n",
       "      <td>216</td>\n",
       "      <td>0.75</td>\n",
       "      <td>0.25</td>\n",
       "    </tr>\n",
       "    <tr>\n",
       "      <th>2</th>\n",
       "      <td>Sur</td>\n",
       "      <td>296</td>\n",
       "      <td>74</td>\n",
       "      <td>370</td>\n",
       "      <td>0.8</td>\n",
       "      <td>0.2</td>\n",
       "    </tr>\n",
       "    <tr>\n",
       "      <th>3</th>\n",
       "      <td>Centro</td>\n",
       "      <td>252</td>\n",
       "      <td>48</td>\n",
       "      <td>300</td>\n",
       "      <td>0.84</td>\n",
       "      <td>0.16</td>\n",
       "    </tr>\n",
       "    <tr>\n",
       "      <th>4</th>\n",
       "      <td>Total</td>\n",
       "      <td>858</td>\n",
       "      <td>228</td>\n",
       "      <td>1086</td>\n",
       "      <td>-</td>\n",
       "      <td>-</td>\n",
       "    </tr>\n",
       "  </tbody>\n",
       "</table>\n",
       "</div>"
      ],
      "text/plain": [
       "    Region   Si   No  Total  % Si  % No\n",
       "0    Norte  148   52    200  0.74  0.26\n",
       "1  Noreste  162   54    216  0.75  0.25\n",
       "2      Sur  296   74    370   0.8   0.2\n",
       "3   Centro  252   48    300  0.84  0.16\n",
       "4    Total  858  228   1086     -     -"
      ]
     },
     "execution_count": 8,
     "metadata": {},
     "output_type": "execute_result"
    }
   ],
   "source": [
    "import pandas as pd\n",
    "\n",
    "cuadro = {\n",
    "    \"Region\":[\"Norte\",\"Noreste\",\"Sur\",\"Centro\"],\n",
    "    \"Si\":[148,162,296,252],\n",
    "    \"No\":[52,54,74,48]\n",
    "}\n",
    "\n",
    "df = pd.DataFrame(cuadro)\n",
    "df[\"Total\"] = df[\"Si\"] + df[\"No\"]\n",
    "df[\"% Si\"] = df[\"Si\"] / df.Total # Probabilidad que SI use el cinturon\n",
    "df[\"% No\"] = df[\"No\"] / df.Total # Probabilidad que NO use el cinturon\n",
    "\n",
    "totales = {\n",
    "    \"Region\":\"Total\",\n",
    "    \"Si\":df[\"Si\"].sum(),\n",
    "    \"No\":df[\"No\"].sum(),\n",
    "    \"Total\":df[\"Total\"].sum(),\n",
    "    \"% Si\": \"-\",\n",
    "    \"% No\": \"-\"\n",
    "}\n",
    "\n",
    "df.append(totales,ignore_index=True)"
   ]
  },
  {
   "attachments": {},
   "cell_type": "markdown",
   "id": "e554068c",
   "metadata": {},
   "source": [
    "b) Construya un cuadro similar, pero con la asignación de probabilidades."
   ]
  },
  {
   "cell_type": "code",
   "execution_count": 24,
   "id": "93853e4b",
   "metadata": {},
   "outputs": [
    {
     "data": {
      "text/html": [
       "<div>\n",
       "<style scoped>\n",
       "    .dataframe tbody tr th:only-of-type {\n",
       "        vertical-align: middle;\n",
       "    }\n",
       "\n",
       "    .dataframe tbody tr th {\n",
       "        vertical-align: top;\n",
       "    }\n",
       "\n",
       "    .dataframe thead th {\n",
       "        text-align: right;\n",
       "    }\n",
       "</style>\n",
       "<table border=\"1\" class=\"dataframe\">\n",
       "  <thead>\n",
       "    <tr style=\"text-align: right;\">\n",
       "      <th></th>\n",
       "      <th>Region</th>\n",
       "      <th>Probabilidad de que SI</th>\n",
       "      <th>Probabilidad de que NO</th>\n",
       "      <th>Total</th>\n",
       "    </tr>\n",
       "  </thead>\n",
       "  <tbody>\n",
       "    <tr>\n",
       "      <th>0</th>\n",
       "      <td>Norte</td>\n",
       "      <td>0.74</td>\n",
       "      <td>0.26</td>\n",
       "      <td>1.0</td>\n",
       "    </tr>\n",
       "    <tr>\n",
       "      <th>1</th>\n",
       "      <td>Noreste</td>\n",
       "      <td>0.75</td>\n",
       "      <td>0.25</td>\n",
       "      <td>1.0</td>\n",
       "    </tr>\n",
       "    <tr>\n",
       "      <th>2</th>\n",
       "      <td>Sur</td>\n",
       "      <td>0.80</td>\n",
       "      <td>0.20</td>\n",
       "      <td>1.0</td>\n",
       "    </tr>\n",
       "    <tr>\n",
       "      <th>3</th>\n",
       "      <td>Centro</td>\n",
       "      <td>0.84</td>\n",
       "      <td>0.16</td>\n",
       "      <td>1.0</td>\n",
       "    </tr>\n",
       "  </tbody>\n",
       "</table>\n",
       "</div>"
      ],
      "text/plain": [
       "    Region  Probabilidad de que SI  Probabilidad de que NO  Total\n",
       "0    Norte                    0.74                    0.26    1.0\n",
       "1  Noreste                    0.75                    0.25    1.0\n",
       "2      Sur                    0.80                    0.20    1.0\n",
       "3   Centro                    0.84                    0.16    1.0"
      ]
     },
     "execution_count": 24,
     "metadata": {},
     "output_type": "execute_result"
    }
   ],
   "source": [
    "cuadro = {\n",
    "    \"Region\":[\"Norte\",\"Noreste\",\"Sur\",\"Centro\"],\n",
    "    \"Probabilidad de que SI\":[0,0,0,0],\n",
    "    \"Probabilidad de que NO\":[0,0,0,0]\n",
    "}\n",
    "\n",
    "df2 = pd.DataFrame(cuadro)\n",
    "df2[\"Probabilidad de que SI\"] = df[\"Si\"] / df[\"Total\"] \n",
    "df2[\"Probabilidad de que NO\"] = df[\"No\"] / df[\"Total\"] \n",
    "df2[\"Total\"] = df2[\"Probabilidad de que SI\"] + df2[\"Probabilidad de que NO\"]\n",
    "df2"
   ]
  },
  {
   "attachments": {},
   "cell_type": "markdown",
   "id": "2032c364",
   "metadata": {},
   "source": [
    "c) Un año antes, la probabilidad en Argentina de que un conductor llevara puesto el cinturón era 0.75. El director de ANSV, se esperaba que la probabilidad llegara a 0.78. ¿Estará satisfecho con los resultados del estudio? (Utilizar tabla adjunta)\n",
    "<br><br> ![Ejercicio](img/ejercicio3.png)"
   ]
  },
  {
   "cell_type": "code",
   "execution_count": 123,
   "id": "8a4b9a09",
   "metadata": {},
   "outputs": [
    {
     "name": "stdout",
     "output_type": "stream",
     "text": [
      "La probabilidad de que un conductor en Argentina lleve puesto el cinturon de seguridad es de 0.79, mas que la probabilidad esperada por el director de ANSV\n"
     ]
    }
   ],
   "source": [
    "total_si = 858\n",
    "total_no = 228\n",
    "total = total_si + total_no\n",
    "probabilidad = total_si / total\n",
    "print(f\"La probabilidad de que un conductor en Argentina lleve puesto el cinturon de seguridad es de {round(probabilidad,2)}, mas que la probabilidad esperada por el director de ANSV\")"
   ]
  },
  {
   "attachments": {},
   "cell_type": "markdown",
   "id": "0eb6f6f7",
   "metadata": {},
   "source": [
    "d) ¿Cuál es la probabilidad de que se use el cinturón en las distintas regiones del país? ¿En qué región se usa más el cinturón?(Utilizar misma tabla que el ejercicio anterior)."
   ]
  },
  {
   "cell_type": "code",
   "execution_count": 31,
   "id": "6a8ff7d0",
   "metadata": {},
   "outputs": [
    {
     "data": {
      "text/html": [
       "<div>\n",
       "<style scoped>\n",
       "    .dataframe tbody tr th:only-of-type {\n",
       "        vertical-align: middle;\n",
       "    }\n",
       "\n",
       "    .dataframe tbody tr th {\n",
       "        vertical-align: top;\n",
       "    }\n",
       "\n",
       "    .dataframe thead th {\n",
       "        text-align: right;\n",
       "    }\n",
       "</style>\n",
       "<table border=\"1\" class=\"dataframe\">\n",
       "  <thead>\n",
       "    <tr style=\"text-align: right;\">\n",
       "      <th></th>\n",
       "      <th>Region</th>\n",
       "      <th>Probabilidad de que SI</th>\n",
       "      <th>Probabilidad de que NO</th>\n",
       "      <th>Total</th>\n",
       "    </tr>\n",
       "  </thead>\n",
       "  <tbody>\n",
       "    <tr>\n",
       "      <th>0</th>\n",
       "      <td>Norte</td>\n",
       "      <td>0.74</td>\n",
       "      <td>0.26</td>\n",
       "      <td>1.0</td>\n",
       "    </tr>\n",
       "    <tr>\n",
       "      <th>1</th>\n",
       "      <td>Noreste</td>\n",
       "      <td>0.75</td>\n",
       "      <td>0.25</td>\n",
       "      <td>1.0</td>\n",
       "    </tr>\n",
       "    <tr>\n",
       "      <th>2</th>\n",
       "      <td>Sur</td>\n",
       "      <td>0.80</td>\n",
       "      <td>0.20</td>\n",
       "      <td>1.0</td>\n",
       "    </tr>\n",
       "    <tr>\n",
       "      <th>3</th>\n",
       "      <td>Centro</td>\n",
       "      <td>0.84</td>\n",
       "      <td>0.16</td>\n",
       "      <td>1.0</td>\n",
       "    </tr>\n",
       "  </tbody>\n",
       "</table>\n",
       "</div>"
      ],
      "text/plain": [
       "    Region  Probabilidad de que SI  Probabilidad de que NO  Total\n",
       "0    Norte                    0.74                    0.26    1.0\n",
       "1  Noreste                    0.75                    0.25    1.0\n",
       "2      Sur                    0.80                    0.20    1.0\n",
       "3   Centro                    0.84                    0.16    1.0"
      ]
     },
     "execution_count": 31,
     "metadata": {},
     "output_type": "execute_result"
    }
   ],
   "source": [
    "cuadro = {\n",
    "    \"Region\":[\"Norte\",\"Noreste\",\"Sur\",\"Centro\"],\n",
    "    \"Probabilidad de que SI\":[0,0,0,0],\n",
    "    \"Probabilidad de que NO\":[0,0,0,0]\n",
    "}\n",
    "\n",
    "df2 = pd.DataFrame(cuadro)\n",
    "df2[\"Probabilidad de que SI\"] = df[\"Si\"] / df[\"Total\"] \n",
    "df2[\"Probabilidad de que NO\"] = df[\"No\"] / df[\"Total\"] \n",
    "df2[\"Total\"] = df2[\"Probabilidad de que SI\"] + df2[\"Probabilidad de que NO\"]\n",
    "df2"
   ]
  },
  {
   "cell_type": "code",
   "execution_count": 42,
   "id": "ffbadda9",
   "metadata": {},
   "outputs": [
    {
     "name": "stdout",
     "output_type": "stream",
     "text": [
      "La region con la tasa de probabilidad mas alta de usar el cinturon es el 'Centro'\n"
     ]
    }
   ],
   "source": [
    "maximo = df2[\"Probabilidad de que SI\"].idxmax()\n",
    "region = df2.loc[maximo][0]\n",
    "\n",
    "print(f\"La region con la tasa de probabilidad mas alta de usar el cinturon es el '{region}'\")"
   ]
  },
  {
   "attachments": {},
   "cell_type": "markdown",
   "id": "295fb6d9",
   "metadata": {},
   "source": [
    "4. Crear una funcion que permita calcular a probabilidad de los siguientes eventos en un baraja de 52 cartas.\n",
    "    - Obtener una carta roja.\n",
    "    - Obtener una carta negra.\n",
    "    - Obtener una pica.\n",
    "    - Obtener un trébol.\n",
    "    - Obtener un corazón.\n",
    "    - Obtener un diamante."
   ]
  },
  {
   "cell_type": "code",
   "execution_count": 95,
   "id": "7c56487f",
   "metadata": {},
   "outputs": [],
   "source": [
    "def PokerProbability(color=0,shape=0):\n",
    "    total = 52\n",
    "    red_cards = 26\n",
    "    black_cards = 26\n",
    "    diamonds_cards = 13\n",
    "    hearts_cards = 13\n",
    "    spades_cards = 13\n",
    "    clovers_cards = 13\n",
    "\n",
    "    if color in (\"red\",\"black\"):\n",
    "        return str(round((red_cards / total) * 100)) + \" %\"\n",
    "    elif color == 0:\n",
    "        pass\n",
    "    else:\n",
    "        print(\"This are the colors: red - black\")\n",
    "    \n",
    "    if shape in (\"diamond\",\"heart\",\"spade\",\"clover\"):\n",
    "        return str(round((diamonds_cards / total) * 100)) + \" %\"\n",
    "    elif shape == 0:\n",
    "        pass\n",
    "    else:\n",
    "        print(\"This are the suits: diamond - heart - spade - clover\")"
   ]
  },
  {
   "cell_type": "code",
   "execution_count": 99,
   "id": "9a3613b8",
   "metadata": {},
   "outputs": [
    {
     "name": "stdout",
     "output_type": "stream",
     "text": [
      "Obtener una carta roja:    50 %\n",
      "Obtener una carta negra:   50 %\n",
      "Obtener una pica:          25 %\n",
      "Obtener un trébol:         25 %\n",
      "Obtener un corazón:        25 %\n",
      "Obtener un diamante:       25 %\n"
     ]
    }
   ],
   "source": [
    "print(f\"Obtener una carta roja:   \",PokerProbability(\"red\",0))\n",
    "print(f\"Obtener una carta negra:  \",PokerProbability(\"black\",0))\n",
    "print(f\"Obtener una pica:         \",PokerProbability(0,\"spade\"))\n",
    "print(f\"Obtener un trébol:        \",PokerProbability(0,\"clover\"))\n",
    "print(f\"Obtener un corazón:       \",PokerProbability(0,\"heart\"))\n",
    "print(f\"Obtener un diamante:      \",PokerProbability(0,\"diamond\"))"
   ]
  },
  {
   "attachments": {},
   "cell_type": "markdown",
   "id": "1e3de238",
   "metadata": {},
   "source": [
    "5. La probabilidad de que salga un 7 o un 8 al seleccionar una carta de una baraja de las 52 cartas que contiene el mazo."
   ]
  },
  {
   "cell_type": "code",
   "execution_count": 109,
   "id": "e0825530",
   "metadata": {},
   "outputs": [
    {
     "name": "stdout",
     "output_type": "stream",
     "text": [
      "La probabilidad de sacar un 7 o un 8 de una baraja de 52 cartas es de 7.7 %\n"
     ]
    }
   ],
   "source": [
    "# En un mazo de 52 cartas, hay cuatro 7 y cuatro \n",
    "print(\"La probabilidad de sacar un 7 o un 8 de una baraja de 52 cartas es de\",round(4/52 * 100,1),\"%\")\n"
   ]
  },
  {
   "attachments": {},
   "cell_type": "markdown",
   "id": "6b34f931",
   "metadata": {},
   "source": [
    "6. La probabilidad de que tu país gane el mundial de fútbol."
   ]
  },
  {
   "attachments": {},
   "cell_type": "markdown",
   "id": "6d847b46",
   "metadata": {},
   "source": [
    "Calcular esta probabilidad requiere de muchos factores. Si bien, en un mundial tradicional juegan 32 selecciones, se podria pensar que cada seleccion tiene una probabilidad de ganar el mundial de 1/32, lo cual matematicamente tiene sentido, pero nos estariamos olvidando de que cada seleccion tiene diferentes jugadores en su plantilla, de que las selecciones estan en diferentes puestos en la ranking FIFA y que tambien depende de los rivales que le toque jugar en el mundial. Con esto quiero decir que no son las mismas probabilidades que tiene de ganar el mundial la seleccion de Qatar con la que tiene la seleccion de Brasil, por ejemplo."
   ]
  },
  {
   "cell_type": "code",
   "execution_count": 119,
   "id": "f68cb0e3",
   "metadata": {},
   "outputs": [
    {
     "data": {
      "text/plain": [
       "'3.1 %'"
      ]
     },
     "execution_count": 119,
     "metadata": {},
     "output_type": "execute_result"
    }
   ],
   "source": [
    "selecciones = 32\n",
    "probabilidad_x_seleccion = str(round(1/selecciones,3) * 100) + \" %\"\n",
    "probabilidad_x_seleccion"
   ]
  },
  {
   "attachments": {},
   "cell_type": "markdown",
   "id": "06ce30d3",
   "metadata": {},
   "source": [
    "7. Un experimento que tiene tres resultados es repetido 50 veces y se ve que E1 aparece 20 veces, E2 13 veces y E3 17 veces. Asigne probabilidades a los resultados."
   ]
  },
  {
   "cell_type": "code",
   "execution_count": 122,
   "id": "edda1ea4",
   "metadata": {},
   "outputs": [
    {
     "name": "stdout",
     "output_type": "stream",
     "text": [
      "Probabilidad de E1: 40.0%\n",
      "Probabilidad de E2: 26.0%\n",
      "Probabilidad de E3: 34.0%\n"
     ]
    }
   ],
   "source": [
    "reps = 50\n",
    "e1 = 20\n",
    "e2 = 13\n",
    "e3 = 17\n",
    "\n",
    "print(\"Probabilidad de E1:\",str((e1 / reps) * 100) + \"%\")\n",
    "print(\"Probabilidad de E2:\",str((e2 / reps) * 100) + \"%\")\n",
    "print(\"Probabilidad de E3:\",str((e3 / reps) * 100) + \"%\")"
   ]
  },
  {
   "attachments": {},
   "cell_type": "markdown",
   "id": "e19bb80e",
   "metadata": {},
   "source": [
    "---"
   ]
  },
  {
   "attachments": {},
   "cell_type": "markdown",
   "id": "f7542f14",
   "metadata": {},
   "source": [
    "## Desafíos complementarios\n",
    "\n",
    "### Investiga e intenta resolver los siguientes ejercicios\n",
    "\n",
    "Si la probabilidad de que un cliente pague en efectivo (E) es 6/15, con tarjeta de crédito (TC) es 7/15 y con tarjeta de débito (TD) es 2/15. Hallar la probabilidad de que dos clientes sucesivos que pagan sus cuentas lo hagan:\n",
    "\n",
    "\n",
    "\n",
    "\n"
   ]
  },
  {
   "attachments": {},
   "cell_type": "markdown",
   "id": "3fd9081f",
   "metadata": {},
   "source": [
    "a) el primero en efectivo y el segundo con tarjeta de crédito."
   ]
  },
  {
   "attachments": {},
   "cell_type": "markdown",
   "id": "609bb7d5",
   "metadata": {},
   "source": [
    "Como este ejemplo se trata de una probabilidad SIN REPOSICION, la probabilidad del segundo cliente que pague con la tarjeta de credito sera 7/14 y no 7/15 porque se elimina un cliente ya que uno ya habria pagado en efectivo, es decir, no se lo vuelve a sumar en la lista"
   ]
  },
  {
   "cell_type": "code",
   "execution_count": 129,
   "id": "1b19a494",
   "metadata": {},
   "outputs": [
    {
     "data": {
      "text/plain": [
       "0.5"
      ]
     },
     "execution_count": 129,
     "metadata": {},
     "output_type": "execute_result"
    }
   ],
   "source": [
    "7/14"
   ]
  },
  {
   "cell_type": "code",
   "execution_count": 131,
   "id": "8b753526",
   "metadata": {},
   "outputs": [
    {
     "name": "stdout",
     "output_type": "stream",
     "text": [
      "La probabilidad de que el primero pague en efectivo y el segundo con tarjeta de crédito es de 20.0%\n"
     ]
    }
   ],
   "source": [
    "e = 6/15\n",
    "tc = 7/14\n",
    "td = 2/15\n",
    "\n",
    "probabilidad = str((e * tc) * 100) + \"%\"\n",
    "\n",
    "print(\"La probabilidad de que el primero pague en efectivo y el segundo con tarjeta de crédito es de\", probabilidad)"
   ]
  },
  {
   "attachments": {},
   "cell_type": "markdown",
   "id": "fdf7b7ec",
   "metadata": {},
   "source": [
    "b) Los dos clientes en efectivo"
   ]
  },
  {
   "cell_type": "code",
   "execution_count": 135,
   "id": "74cc042d",
   "metadata": {},
   "outputs": [
    {
     "name": "stdout",
     "output_type": "stream",
     "text": [
      "La probabilidad de que dos clientes paguen en efectivo de manera consecutiva es de 17.14%\n"
     ]
    }
   ],
   "source": [
    "probabilidad = str(round((6/15 * 6/14) * 100,2)) + \"%\"\n",
    "\n",
    "print(\"La probabilidad de que dos clientes paguen en efectivo de manera consecutiva es de\", probabilidad)"
   ]
  },
  {
   "attachments": {},
   "cell_type": "markdown",
   "id": "68e756b4",
   "metadata": {},
   "source": [
    "La probabilidad de que un Henry repruebe el M1 de 0.8, de que apruebe M2 es 0.5 y de que repruebe el M3 es de 0.4.\n",
    "(Los eventos no interfieren entre si)\n",
    "\n",
    "![Tabla](img/probhenry.png)\n",
    "\n",
    "Determinar la probabilidad de que:\n",
    "\n",
    "a) Apruebe un módulo.\n",
    "\n",
    "b) Repruebe las tres materias."
   ]
  },
  {
   "cell_type": "code",
   "execution_count": 145,
   "id": "51a5b0e4",
   "metadata": {},
   "outputs": [
    {
     "name": "stdout",
     "output_type": "stream",
     "text": [
      "La probabilidad de aprobar tan solo un modulo es de 44.0 %\n"
     ]
    }
   ],
   "source": [
    "# a\n",
    "m1_aprobar = 0.2\n",
    "m1_reprobar = 0.8\n",
    "\n",
    "m2_aprobar = 0.5\n",
    "m2_reprobar = 0.5\n",
    "\n",
    "m3_aprobar = 0.6\n",
    "m3_reprobar = 0.4\n",
    "\n",
    "probabilidad_aprobar_1 = (m1_aprobar * m2_reprobar * m3_reprobar) + (m1_reprobar * m2_aprobar * m3_reprobar) + (m1_reprobar * m2_reprobar * m3_aprobar)\n",
    "probabilidad_aprobar_1 = round(probabilidad_aprobar_1 * 100,2)\n",
    "print(\"La probabilidad de aprobar tan solo un modulo es de\",probabilidad_aprobar_1,\"%\")"
   ]
  },
  {
   "cell_type": "code",
   "execution_count": 147,
   "id": "b0292cb9",
   "metadata": {},
   "outputs": [
    {
     "name": "stdout",
     "output_type": "stream",
     "text": [
      "La probabilidad de reprobar todos los modulos es de 16.0 %\n"
     ]
    }
   ],
   "source": [
    "# b\n",
    "probabilidad_reprobar = round((m1_reprobar * m2_reprobar * m3_reprobar) * 100,2)\n",
    "print(\"La probabilidad de reprobar todos los modulos es de\",probabilidad_reprobar,\"%\")"
   ]
  }
 ],
 "metadata": {
  "kernelspec": {
   "display_name": "Python 3 (ipykernel)",
   "language": "python",
   "name": "python3"
  },
  "language_info": {
   "codemirror_mode": {
    "name": "ipython",
    "version": 3
   },
   "file_extension": ".py",
   "mimetype": "text/x-python",
   "name": "python",
   "nbconvert_exporter": "python",
   "pygments_lexer": "ipython3",
   "version": "3.10.11"
  }
 },
 "nbformat": 4,
 "nbformat_minor": 5
}
