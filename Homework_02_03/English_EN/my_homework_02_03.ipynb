{
 "cells": [
  {
   "attachments": {},
   "cell_type": "markdown",
   "metadata": {},
   "source": [
    "# Homework Class 3 Module 2"
   ]
  },
  {
   "attachments": {},
   "cell_type": "markdown",
   "metadata": {},
   "source": [
    "1. Suppose two events, A and B, and that P(A) = 0.50, P(B) = 0.60, and P(A ∩ B) = 0.40.<br>\n",
    "- a. Find P(A | B).\n",
    "- b. Find P(B | A)."
   ]
  },
  {
   "cell_type": "code",
   "execution_count": 4,
   "metadata": {},
   "outputs": [
    {
     "name": "stdout",
     "output_type": "stream",
     "text": [
      "P(A|B) 0.67\n",
      "P(B|A) 0.8\n"
     ]
    }
   ],
   "source": [
    "pa = 0.5\n",
    "pb = 0.60\n",
    "anb = 0.40\n",
    "\n",
    "# P(A | B) = P(A ∩ B) / P(B)\n",
    "\n",
    "alb = anb / pb\n",
    "print(\"P(A|B)\",round(alb,2))\n",
    "bla = anb / pa\n",
    "print(\"P(B|A)\",round(bla,2))"
   ]
  },
  {
   "attachments": {},
   "cell_type": "markdown",
   "metadata": {},
   "source": [
    "---"
   ]
  },
  {
   "attachments": {},
   "cell_type": "markdown",
   "metadata": {},
   "source": [
    "- c. Are A and B independent? Why yes or why not?"
   ]
  },
  {
   "attachments": {},
   "cell_type": "markdown",
   "metadata": {},
   "source": [
    "**For A and B to be independent, it should be true that P(A ∩ B) = P(A) * P(B). However, in this case, P(A) * P(B) = 0.50 * 0.60 = 0.30, which is not equal to P(A ∩ B) = 0.40. <br>So my conclusion is that A and B aren't independent events.**"
   ]
  },
  {
   "attachments": {},
   "cell_type": "markdown",
   "metadata": {},
   "source": [
    "---"
   ]
  },
  {
   "attachments": {},
   "cell_type": "markdown",
   "metadata": {},
   "source": [
    "2. Suppose two events, A and B, that are mutually exclusive. Further assume that P(A) = 0.30 and P(B) = 0.40.<br>\n",
    "- a. Get P(A ∩ B). Is there an intersection between the two sets?"
   ]
  },
  {
   "attachments": {},
   "cell_type": "markdown",
   "metadata": {},
   "source": [
    "Como los eventos son *'mutuamente excluyentes'*, esto significa que si un evento ocurre, el otro no pued eocurrir al mismo tiempo. Por lo tanto la intersección de estos dos eventos sera 0\n",
    "\n",
    "P(A ∩ B) = 0"
   ]
  },
  {
   "attachments": {},
   "cell_type": "markdown",
   "metadata": {},
   "source": [
    "Since the events are mutually exclusive, this means that if an event occurs, the another one cannot occurs at the same time. Therefor e the intersection between these two events will be 0\n",
    "\n",
    "P(A ∩ B) = 0"
   ]
  },
  {
   "attachments": {},
   "cell_type": "markdown",
   "metadata": {},
   "source": [
    "---"
   ]
  },
  {
   "attachments": {},
   "cell_type": "markdown",
   "metadata": {},
   "source": [
    "- b. Get P(A | B)."
   ]
  },
  {
   "attachments": {},
   "cell_type": "markdown",
   "metadata": {},
   "source": [
    "P(A|B) = P(A ∩ B) / P(B)<br>\n",
    "P(A|B) = 0 / 0.40<br>\n",
    "P(A|B) = 0"
   ]
  },
  {
   "attachments": {},
   "cell_type": "markdown",
   "metadata": {},
   "source": [
    "---"
   ]
  },
  {
   "attachments": {},
   "cell_type": "markdown",
   "metadata": {},
   "source": [
    "- c. A statistics student argues that the concepts of mutually exclusive events and independent events are really the same thing and that if the events are mutually exclusive they must also be independent. Do you agree? Use the information about the probabilities to justify your answer."
   ]
  },
  {
   "attachments": {},
   "cell_type": "markdown",
   "metadata": {},
   "source": [
    "This statement is completely false and contradicts itself. As is known, that two events are mutually exclusive means that they cannot occur at the same time and that two events are independent of each other means that the occurrence of one doesn't affect the occurrence of another, therefore, **as in this case the events are mutually exclusive (these two cannot occur at the same time) this generates a certain dependency between them, making them events dependent on each other.**"
   ]
  }
 ],
 "metadata": {
  "kernelspec": {
   "display_name": "Python 3",
   "language": "python",
   "name": "python3"
  },
  "language_info": {
   "codemirror_mode": {
    "name": "ipython",
    "version": 3
   },
   "file_extension": ".py",
   "mimetype": "text/x-python",
   "name": "python",
   "nbconvert_exporter": "python",
   "pygments_lexer": "ipython3",
   "version": "3.10.11"
  },
  "orig_nbformat": 4
 },
 "nbformat": 4,
 "nbformat_minor": 2
}
