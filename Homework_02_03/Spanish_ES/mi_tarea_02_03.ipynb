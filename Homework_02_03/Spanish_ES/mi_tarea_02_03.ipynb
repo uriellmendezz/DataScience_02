{
 "cells": [
  {
   "attachments": {},
   "cell_type": "markdown",
   "metadata": {},
   "source": [
    "# Homework Clase 3 Modulo 2"
   ]
  },
  {
   "attachments": {},
   "cell_type": "markdown",
   "metadata": {},
   "source": [
    "1. Suponga dos eventos, A y B, y que P(A) = 0.50, P(B) = 0.60 y P(A ∩ B) = 0.40.<br>\n",
    "- a. Halle P(A | B).\n",
    "- b. Halle P(B | A)."
   ]
  },
  {
   "cell_type": "code",
   "execution_count": 4,
   "metadata": {},
   "outputs": [
    {
     "name": "stdout",
     "output_type": "stream",
     "text": [
      "P(A|B) 0.67\n",
      "P(B|A) 0.8\n"
     ]
    }
   ],
   "source": [
    "pa = 0.5\n",
    "pb = 0.60\n",
    "anb = 0.40\n",
    "\n",
    "# P(A | B) = P(A ∩ B) / P(B)\n",
    "\n",
    "alb = anb / pb\n",
    "print(\"P(A|B)\",round(alb,2))\n",
    "bla = anb / pa\n",
    "print(\"P(B|A)\",round(bla,2))"
   ]
  },
  {
   "attachments": {},
   "cell_type": "markdown",
   "metadata": {},
   "source": [
    "---"
   ]
  },
  {
   "attachments": {},
   "cell_type": "markdown",
   "metadata": {},
   "source": [
    "- c. ¿A y B son independientes? ¿Por qué sí o por qué no?"
   ]
  },
  {
   "attachments": {},
   "cell_type": "markdown",
   "metadata": {},
   "source": [
    "**Para que A y B sean independientes, debería cumplirse que P(A ∩ B) = P(A) * P(B). Sin embargo, en este caso, P(A) * P(B) = 0.50 * 0.60 = 0.30, lo cual no es igual a P(A ∩ B) = 0.40. \\nPor lo tanto, A y B no son eventos independientes.**"
   ]
  },
  {
   "attachments": {},
   "cell_type": "markdown",
   "metadata": {},
   "source": [
    "---"
   ]
  },
  {
   "attachments": {},
   "cell_type": "markdown",
   "metadata": {},
   "source": [
    "2. Suponga dos eventos, A y B, que son mutuamente excluyentes. Admita, además, que P(A) = 0.30 y P(B) = 0.40.<br>\n",
    "- a. Obtenga P(A ∩ B). ¿Existe intersección entre los dos conjuntos?."
   ]
  },
  {
   "attachments": {},
   "cell_type": "markdown",
   "metadata": {},
   "source": [
    "Como los eventos son *'mutuamente excluyentes'*, esto significa que si un evento ocurre, el otro no pued eocurrir al mismo tiempo. Por lo tanto la intersección de estos dos eventos sera 0\n",
    "\n",
    "P(A ∩ B) = 0"
   ]
  },
  {
   "attachments": {},
   "cell_type": "markdown",
   "metadata": {},
   "source": [
    "---"
   ]
  },
  {
   "attachments": {},
   "cell_type": "markdown",
   "metadata": {},
   "source": [
    "- b. Calcule P(A | B)."
   ]
  },
  {
   "attachments": {},
   "cell_type": "markdown",
   "metadata": {},
   "source": [
    "P(A|B) = P(A ∩ B) / P(B)<br>\n",
    "P(A|B) = 0 / 0.40<br>\n",
    "P(A|B) = 0"
   ]
  },
  {
   "attachments": {},
   "cell_type": "markdown",
   "metadata": {},
   "source": [
    "---"
   ]
  },
  {
   "attachments": {},
   "cell_type": "markdown",
   "metadata": {},
   "source": [
    "- c. Un estudiante de estadística argumenta que los conceptos de eventos mutuamente excluyentes y eventos independientes son en realidad lo mismo y que si los eventos son mutuamente excluyentes deben ser también independientes. ¿Está usted de acuerdo? Use la información sobre las probabilidades para justificar su respuesta."
   ]
  },
  {
   "attachments": {},
   "cell_type": "markdown",
   "metadata": {},
   "source": [
    "Esa afirmacion es totalmente falsa y se contradice. Como es sabido, que dos eventos sean mutuamente excluyentes significa que no pueden ocurrir al mismo tiempo y que dos eventos sean independientes entre si significa que la ocurrencia de uno no afecta a la ocurrencia de otro, por lo tanto, **como en este caso los eventos son excluyentes mutuos (los dos no pueden ocurrir al mismo tiempo) esto genera cierta dependencia entre los mismos, provocando que sean eventos dependientes entre si.**"
   ]
  }
 ],
 "metadata": {
  "kernelspec": {
   "display_name": "Python 3",
   "language": "python",
   "name": "python3"
  },
  "language_info": {
   "codemirror_mode": {
    "name": "ipython",
    "version": 3
   },
   "file_extension": ".py",
   "mimetype": "text/x-python",
   "name": "python",
   "nbconvert_exporter": "python",
   "pygments_lexer": "ipython3",
   "version": "3.10.11"
  },
  "orig_nbformat": 4
 },
 "nbformat": 4,
 "nbformat_minor": 2
}
